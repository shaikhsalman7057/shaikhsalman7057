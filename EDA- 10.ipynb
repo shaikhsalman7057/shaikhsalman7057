{
 "cells": [
  {
   "cell_type": "markdown",
   "id": "897196d8",
   "metadata": {},
   "source": [
    "# EDA (Exploratory Data Analysis)\n",
    "\n",
    "- Exploratory Data Analysis (EDA) is an approach to analyze the data using visual techniques and statistical techniques. It is used to discover trends, patterns, or to check assumptions with the help of statistical summary and graphical representations.\n",
    "\n",
    "**Steps involved in EDA**\n",
    "1. Describing the data\n",
    "2. Data cleaning\n",
    "3. Imputation techniques\n",
    "4. Data analysis and visualization\n",
    "5. Transformations\n",
    "6. Auto EDA"
   ]
  },
  {
   "cell_type": "markdown",
   "id": "e9885709",
   "metadata": {},
   "source": [
    "**Import data and data description**"
   ]
  },
  {
   "cell_type": "code",
   "execution_count": 1,
   "id": "9209ff70",
   "metadata": {
    "ExecuteTime": {
     "end_time": "2023-10-31T03:41:06.432084Z",
     "start_time": "2023-10-31T03:41:00.646897Z"
    }
   },
   "outputs": [],
   "source": [
    "import pandas as pd\n",
    "import numpy as np\n",
    "import matplotlib.pyplot as plt\n",
    "import seaborn as sns\n",
    "plt.rcParams['figure.figsize'] = (10,5)\n",
    "plt.rcParams['figure.dpi'] = 300\n",
    "%matplotlib inline\n",
    "import warnings\n",
    "warnings.filterwarnings('ignore')"
   ]
  },
  {
   "cell_type": "code",
   "execution_count": 2,
   "id": "d42b5dc7",
   "metadata": {
    "ExecuteTime": {
     "end_time": "2023-10-31T03:41:36.373780Z",
     "start_time": "2023-10-31T03:41:36.152754Z"
    }
   },
   "outputs": [
    {
     "data": {
      "text/html": [
       "<div>\n",
       "<style scoped>\n",
       "    .dataframe tbody tr th:only-of-type {\n",
       "        vertical-align: middle;\n",
       "    }\n",
       "\n",
       "    .dataframe tbody tr th {\n",
       "        vertical-align: top;\n",
       "    }\n",
       "\n",
       "    .dataframe thead th {\n",
       "        text-align: right;\n",
       "    }\n",
       "</style>\n",
       "<table border=\"1\" class=\"dataframe\">\n",
       "  <thead>\n",
       "    <tr style=\"text-align: right;\">\n",
       "      <th></th>\n",
       "      <th>Ozone</th>\n",
       "      <th>Solar.R</th>\n",
       "      <th>Wind</th>\n",
       "      <th>Month</th>\n",
       "      <th>Day</th>\n",
       "      <th>Year</th>\n",
       "      <th>Temp</th>\n",
       "      <th>Weather</th>\n",
       "    </tr>\n",
       "  </thead>\n",
       "  <tbody>\n",
       "    <tr>\n",
       "      <th>1</th>\n",
       "      <td>41.0</td>\n",
       "      <td>190.0</td>\n",
       "      <td>7.4</td>\n",
       "      <td>5</td>\n",
       "      <td>1</td>\n",
       "      <td>2010</td>\n",
       "      <td>67</td>\n",
       "      <td>S</td>\n",
       "    </tr>\n",
       "    <tr>\n",
       "      <th>2</th>\n",
       "      <td>36.0</td>\n",
       "      <td>118.0</td>\n",
       "      <td>8.0</td>\n",
       "      <td>5</td>\n",
       "      <td>2</td>\n",
       "      <td>2010</td>\n",
       "      <td>72</td>\n",
       "      <td>C</td>\n",
       "    </tr>\n",
       "    <tr>\n",
       "      <th>3</th>\n",
       "      <td>12.0</td>\n",
       "      <td>149.0</td>\n",
       "      <td>12.6</td>\n",
       "      <td>5</td>\n",
       "      <td>3</td>\n",
       "      <td>2010</td>\n",
       "      <td>74</td>\n",
       "      <td>PS</td>\n",
       "    </tr>\n",
       "    <tr>\n",
       "      <th>4</th>\n",
       "      <td>18.0</td>\n",
       "      <td>313.0</td>\n",
       "      <td>11.5</td>\n",
       "      <td>5</td>\n",
       "      <td>4</td>\n",
       "      <td>2010</td>\n",
       "      <td>62</td>\n",
       "      <td>S</td>\n",
       "    </tr>\n",
       "    <tr>\n",
       "      <th>5</th>\n",
       "      <td>NaN</td>\n",
       "      <td>NaN</td>\n",
       "      <td>14.3</td>\n",
       "      <td>5</td>\n",
       "      <td>5</td>\n",
       "      <td>2010</td>\n",
       "      <td>56</td>\n",
       "      <td>S</td>\n",
       "    </tr>\n",
       "    <tr>\n",
       "      <th>...</th>\n",
       "      <td>...</td>\n",
       "      <td>...</td>\n",
       "      <td>...</td>\n",
       "      <td>...</td>\n",
       "      <td>...</td>\n",
       "      <td>...</td>\n",
       "      <td>...</td>\n",
       "      <td>...</td>\n",
       "    </tr>\n",
       "    <tr>\n",
       "      <th>154</th>\n",
       "      <td>41.0</td>\n",
       "      <td>190.0</td>\n",
       "      <td>7.4</td>\n",
       "      <td>5</td>\n",
       "      <td>1</td>\n",
       "      <td>2010</td>\n",
       "      <td>67</td>\n",
       "      <td>C</td>\n",
       "    </tr>\n",
       "    <tr>\n",
       "      <th>155</th>\n",
       "      <td>30.0</td>\n",
       "      <td>193.0</td>\n",
       "      <td>6.9</td>\n",
       "      <td>9</td>\n",
       "      <td>26</td>\n",
       "      <td>2010</td>\n",
       "      <td>70</td>\n",
       "      <td>PS</td>\n",
       "    </tr>\n",
       "    <tr>\n",
       "      <th>156</th>\n",
       "      <td>NaN</td>\n",
       "      <td>145.0</td>\n",
       "      <td>13.2</td>\n",
       "      <td>9</td>\n",
       "      <td>27</td>\n",
       "      <td>2010</td>\n",
       "      <td>77</td>\n",
       "      <td>S</td>\n",
       "    </tr>\n",
       "    <tr>\n",
       "      <th>157</th>\n",
       "      <td>14.0</td>\n",
       "      <td>191.0</td>\n",
       "      <td>14.3</td>\n",
       "      <td>9</td>\n",
       "      <td>28</td>\n",
       "      <td>2010</td>\n",
       "      <td>75</td>\n",
       "      <td>S</td>\n",
       "    </tr>\n",
       "    <tr>\n",
       "      <th>158</th>\n",
       "      <td>18.0</td>\n",
       "      <td>131.0</td>\n",
       "      <td>8.0</td>\n",
       "      <td>9</td>\n",
       "      <td>29</td>\n",
       "      <td>2010</td>\n",
       "      <td>76</td>\n",
       "      <td>C</td>\n",
       "    </tr>\n",
       "  </tbody>\n",
       "</table>\n",
       "<p>158 rows × 8 columns</p>\n",
       "</div>"
      ],
      "text/plain": [
       "     Ozone  Solar.R  Wind Month  Day  Year  Temp Weather\n",
       "1     41.0    190.0   7.4     5    1  2010    67       S\n",
       "2     36.0    118.0   8.0     5    2  2010    72       C\n",
       "3     12.0    149.0  12.6     5    3  2010    74      PS\n",
       "4     18.0    313.0  11.5     5    4  2010    62       S\n",
       "5      NaN      NaN  14.3     5    5  2010    56       S\n",
       "..     ...      ...   ...   ...  ...   ...   ...     ...\n",
       "154   41.0    190.0   7.4     5    1  2010    67       C\n",
       "155   30.0    193.0   6.9     9   26  2010    70      PS\n",
       "156    NaN    145.0  13.2     9   27  2010    77       S\n",
       "157   14.0    191.0  14.3     9   28  2010    75       S\n",
       "158   18.0    131.0   8.0     9   29  2010    76       C\n",
       "\n",
       "[158 rows x 8 columns]"
      ]
     },
     "execution_count": 2,
     "metadata": {},
     "output_type": "execute_result"
    }
   ],
   "source": [
    "df = pd.read_csv('data_clean.csv', index_col=0)\n",
    "df"
   ]
  },
  {
   "cell_type": "code",
   "execution_count": 3,
   "id": "697602a6",
   "metadata": {
    "ExecuteTime": {
     "end_time": "2023-10-31T03:44:13.850546Z",
     "start_time": "2023-10-31T03:44:13.754944Z"
    }
   },
   "outputs": [
    {
     "data": {
      "text/html": [
       "<div>\n",
       "<style scoped>\n",
       "    .dataframe tbody tr th:only-of-type {\n",
       "        vertical-align: middle;\n",
       "    }\n",
       "\n",
       "    .dataframe tbody tr th {\n",
       "        vertical-align: top;\n",
       "    }\n",
       "\n",
       "    .dataframe thead th {\n",
       "        text-align: right;\n",
       "    }\n",
       "</style>\n",
       "<table border=\"1\" class=\"dataframe\">\n",
       "  <thead>\n",
       "    <tr style=\"text-align: right;\">\n",
       "      <th></th>\n",
       "      <th>Ozone</th>\n",
       "      <th>Solar.R</th>\n",
       "      <th>Wind</th>\n",
       "      <th>Day</th>\n",
       "      <th>Year</th>\n",
       "      <th>Temp</th>\n",
       "    </tr>\n",
       "  </thead>\n",
       "  <tbody>\n",
       "    <tr>\n",
       "      <th>count</th>\n",
       "      <td>120.000000</td>\n",
       "      <td>151.000000</td>\n",
       "      <td>158.000000</td>\n",
       "      <td>158.000000</td>\n",
       "      <td>158.0</td>\n",
       "      <td>158.000000</td>\n",
       "    </tr>\n",
       "    <tr>\n",
       "      <th>mean</th>\n",
       "      <td>41.583333</td>\n",
       "      <td>185.403974</td>\n",
       "      <td>9.957595</td>\n",
       "      <td>16.006329</td>\n",
       "      <td>2010.0</td>\n",
       "      <td>77.727848</td>\n",
       "    </tr>\n",
       "    <tr>\n",
       "      <th>std</th>\n",
       "      <td>32.620709</td>\n",
       "      <td>88.723103</td>\n",
       "      <td>3.511261</td>\n",
       "      <td>8.997166</td>\n",
       "      <td>0.0</td>\n",
       "      <td>9.377877</td>\n",
       "    </tr>\n",
       "    <tr>\n",
       "      <th>min</th>\n",
       "      <td>1.000000</td>\n",
       "      <td>7.000000</td>\n",
       "      <td>1.700000</td>\n",
       "      <td>1.000000</td>\n",
       "      <td>2010.0</td>\n",
       "      <td>56.000000</td>\n",
       "    </tr>\n",
       "    <tr>\n",
       "      <th>25%</th>\n",
       "      <td>18.000000</td>\n",
       "      <td>119.000000</td>\n",
       "      <td>7.400000</td>\n",
       "      <td>8.000000</td>\n",
       "      <td>2010.0</td>\n",
       "      <td>72.000000</td>\n",
       "    </tr>\n",
       "    <tr>\n",
       "      <th>50%</th>\n",
       "      <td>30.500000</td>\n",
       "      <td>197.000000</td>\n",
       "      <td>9.700000</td>\n",
       "      <td>16.000000</td>\n",
       "      <td>2010.0</td>\n",
       "      <td>78.500000</td>\n",
       "    </tr>\n",
       "    <tr>\n",
       "      <th>75%</th>\n",
       "      <td>61.500000</td>\n",
       "      <td>257.000000</td>\n",
       "      <td>11.875000</td>\n",
       "      <td>24.000000</td>\n",
       "      <td>2010.0</td>\n",
       "      <td>84.000000</td>\n",
       "    </tr>\n",
       "    <tr>\n",
       "      <th>max</th>\n",
       "      <td>168.000000</td>\n",
       "      <td>334.000000</td>\n",
       "      <td>20.700000</td>\n",
       "      <td>31.000000</td>\n",
       "      <td>2010.0</td>\n",
       "      <td>97.000000</td>\n",
       "    </tr>\n",
       "  </tbody>\n",
       "</table>\n",
       "</div>"
      ],
      "text/plain": [
       "            Ozone     Solar.R        Wind         Day    Year        Temp\n",
       "count  120.000000  151.000000  158.000000  158.000000   158.0  158.000000\n",
       "mean    41.583333  185.403974    9.957595   16.006329  2010.0   77.727848\n",
       "std     32.620709   88.723103    3.511261    8.997166     0.0    9.377877\n",
       "min      1.000000    7.000000    1.700000    1.000000  2010.0   56.000000\n",
       "25%     18.000000  119.000000    7.400000    8.000000  2010.0   72.000000\n",
       "50%     30.500000  197.000000    9.700000   16.000000  2010.0   78.500000\n",
       "75%     61.500000  257.000000   11.875000   24.000000  2010.0   84.000000\n",
       "max    168.000000  334.000000   20.700000   31.000000  2010.0   97.000000"
      ]
     },
     "execution_count": 3,
     "metadata": {},
     "output_type": "execute_result"
    }
   ],
   "source": [
    "df.describe()"
   ]
  },
  {
   "cell_type": "code",
   "execution_count": 4,
   "id": "f22e809b",
   "metadata": {
    "ExecuteTime": {
     "end_time": "2023-10-31T03:49:59.880134Z",
     "start_time": "2023-10-31T03:49:59.822148Z"
    }
   },
   "outputs": [
    {
     "data": {
      "text/html": [
       "<div>\n",
       "<style scoped>\n",
       "    .dataframe tbody tr th:only-of-type {\n",
       "        vertical-align: middle;\n",
       "    }\n",
       "\n",
       "    .dataframe tbody tr th {\n",
       "        vertical-align: top;\n",
       "    }\n",
       "\n",
       "    .dataframe thead th {\n",
       "        text-align: right;\n",
       "    }\n",
       "</style>\n",
       "<table border=\"1\" class=\"dataframe\">\n",
       "  <thead>\n",
       "    <tr style=\"text-align: right;\">\n",
       "      <th></th>\n",
       "      <th>Month</th>\n",
       "      <th>Weather</th>\n",
       "    </tr>\n",
       "  </thead>\n",
       "  <tbody>\n",
       "    <tr>\n",
       "      <th>count</th>\n",
       "      <td>158</td>\n",
       "      <td>155</td>\n",
       "    </tr>\n",
       "    <tr>\n",
       "      <th>unique</th>\n",
       "      <td>6</td>\n",
       "      <td>3</td>\n",
       "    </tr>\n",
       "    <tr>\n",
       "      <th>top</th>\n",
       "      <td>9</td>\n",
       "      <td>S</td>\n",
       "    </tr>\n",
       "    <tr>\n",
       "      <th>freq</th>\n",
       "      <td>34</td>\n",
       "      <td>59</td>\n",
       "    </tr>\n",
       "  </tbody>\n",
       "</table>\n",
       "</div>"
      ],
      "text/plain": [
       "       Month Weather\n",
       "count    158     155\n",
       "unique     6       3\n",
       "top        9       S\n",
       "freq      34      59"
      ]
     },
     "execution_count": 4,
     "metadata": {},
     "output_type": "execute_result"
    }
   ],
   "source": [
    "df.describe(include=object)"
   ]
  },
  {
   "cell_type": "code",
   "execution_count": 5,
   "id": "766b5a7e",
   "metadata": {
    "ExecuteTime": {
     "end_time": "2023-10-31T03:51:08.301964Z",
     "start_time": "2023-10-31T03:51:08.290609Z"
    }
   },
   "outputs": [
    {
     "data": {
      "text/plain": [
       "Ozone      float64\n",
       "Solar.R    float64\n",
       "Wind       float64\n",
       "Month       object\n",
       "Day          int64\n",
       "Year         int64\n",
       "Temp         int64\n",
       "Weather     object\n",
       "dtype: object"
      ]
     },
     "execution_count": 5,
     "metadata": {},
     "output_type": "execute_result"
    }
   ],
   "source": [
    "df.dtypes"
   ]
  },
  {
   "cell_type": "code",
   "execution_count": 6,
   "id": "51e9644e",
   "metadata": {
    "ExecuteTime": {
     "end_time": "2023-10-31T03:51:57.825846Z",
     "start_time": "2023-10-31T03:51:57.769114Z"
    }
   },
   "outputs": [
    {
     "name": "stdout",
     "output_type": "stream",
     "text": [
      "<class 'pandas.core.frame.DataFrame'>\n",
      "Int64Index: 158 entries, 1 to 158\n",
      "Data columns (total 8 columns):\n",
      " #   Column   Non-Null Count  Dtype  \n",
      "---  ------   --------------  -----  \n",
      " 0   Ozone    120 non-null    float64\n",
      " 1   Solar.R  151 non-null    float64\n",
      " 2   Wind     158 non-null    float64\n",
      " 3   Month    158 non-null    object \n",
      " 4   Day      158 non-null    int64  \n",
      " 5   Year     158 non-null    int64  \n",
      " 6   Temp     158 non-null    int64  \n",
      " 7   Weather  155 non-null    object \n",
      "dtypes: float64(3), int64(3), object(2)\n",
      "memory usage: 11.1+ KB\n"
     ]
    }
   ],
   "source": [
    "df.info()"
   ]
  },
  {
   "cell_type": "markdown",
   "id": "862429bf",
   "metadata": {},
   "source": [
    "- As we can see that,\n",
    "- 'Month' column has all the numeric data still python has shown us that it is object.\n",
    "- We will have to find out the reason and change the data type of the column."
   ]
  },
  {
   "cell_type": "markdown",
   "id": "dbcea150",
   "metadata": {},
   "source": [
    "# **Data type conversion**"
   ]
  },
  {
   "cell_type": "code",
   "execution_count": 7,
   "id": "4378858c",
   "metadata": {
    "ExecuteTime": {
     "end_time": "2023-10-31T03:53:29.357980Z",
     "start_time": "2023-10-31T03:53:29.340910Z"
    }
   },
   "outputs": [
    {
     "data": {
      "text/plain": [
       "1      5\n",
       "2      5\n",
       "3      5\n",
       "4      5\n",
       "5      5\n",
       "      ..\n",
       "154    5\n",
       "155    9\n",
       "156    9\n",
       "157    9\n",
       "158    9\n",
       "Name: Month, Length: 158, dtype: object"
      ]
     },
     "execution_count": 7,
     "metadata": {},
     "output_type": "execute_result"
    }
   ],
   "source": [
    "df['Month']"
   ]
  },
  {
   "cell_type": "code",
   "execution_count": 8,
   "id": "90cd7ea3",
   "metadata": {
    "ExecuteTime": {
     "end_time": "2023-10-31T03:53:57.712091Z",
     "start_time": "2023-10-31T03:53:57.705078Z"
    }
   },
   "outputs": [
    {
     "data": {
      "text/plain": [
       "array(['5', 'May', '6', '7', '8', '9'], dtype=object)"
      ]
     },
     "execution_count": 8,
     "metadata": {},
     "output_type": "execute_result"
    }
   ],
   "source": [
    "df['Month'].unique()"
   ]
  },
  {
   "cell_type": "code",
   "execution_count": 9,
   "id": "ca24d2e3",
   "metadata": {
    "ExecuteTime": {
     "end_time": "2023-10-31T03:55:32.030577Z",
     "start_time": "2023-10-31T03:55:32.017929Z"
    }
   },
   "outputs": [
    {
     "data": {
      "text/plain": [
       "9      34\n",
       "5      31\n",
       "7      31\n",
       "8      31\n",
       "6      30\n",
       "May     1\n",
       "Name: Month, dtype: int64"
      ]
     },
     "execution_count": 9,
     "metadata": {},
     "output_type": "execute_result"
    }
   ],
   "source": [
    "df['Month'].value_counts()"
   ]
  },
  {
   "cell_type": "code",
   "execution_count": 12,
   "id": "fe5f2d05",
   "metadata": {
    "ExecuteTime": {
     "end_time": "2023-10-31T03:58:13.978594Z",
     "start_time": "2023-10-31T03:58:13.966538Z"
    }
   },
   "outputs": [],
   "source": [
    "df['Month'].replace('May','5',inplace=True)"
   ]
  },
  {
   "cell_type": "code",
   "execution_count": 13,
   "id": "f9e380c6",
   "metadata": {
    "ExecuteTime": {
     "end_time": "2023-10-31T03:58:20.086071Z",
     "start_time": "2023-10-31T03:58:20.066089Z"
    }
   },
   "outputs": [
    {
     "data": {
      "text/plain": [
       "array(['5', '6', '7', '8', '9'], dtype=object)"
      ]
     },
     "execution_count": 13,
     "metadata": {},
     "output_type": "execute_result"
    }
   ],
   "source": [
    "df['Month'].unique()"
   ]
  },
  {
   "cell_type": "code",
   "execution_count": 14,
   "id": "ca3bffb0",
   "metadata": {
    "ExecuteTime": {
     "end_time": "2023-10-31T03:58:58.644989Z",
     "start_time": "2023-10-31T03:58:58.626787Z"
    }
   },
   "outputs": [
    {
     "data": {
      "text/plain": [
       "Ozone      float64\n",
       "Solar.R    float64\n",
       "Wind       float64\n",
       "Month       object\n",
       "Day          int64\n",
       "Year         int64\n",
       "Temp         int64\n",
       "Weather     object\n",
       "dtype: object"
      ]
     },
     "execution_count": 14,
     "metadata": {},
     "output_type": "execute_result"
    }
   ],
   "source": [
    "df.dtypes"
   ]
  },
  {
   "cell_type": "code",
   "execution_count": 17,
   "id": "064155df",
   "metadata": {
    "ExecuteTime": {
     "end_time": "2023-10-31T04:01:43.758437Z",
     "start_time": "2023-10-31T04:01:43.729799Z"
    }
   },
   "outputs": [
    {
     "data": {
      "text/plain": [
       "1      5\n",
       "2      5\n",
       "3      5\n",
       "4      5\n",
       "5      5\n",
       "      ..\n",
       "154    5\n",
       "155    9\n",
       "156    9\n",
       "157    9\n",
       "158    9\n",
       "Name: Month, Length: 158, dtype: int32"
      ]
     },
     "execution_count": 17,
     "metadata": {},
     "output_type": "execute_result"
    }
   ],
   "source": [
    "df['Month'].astype(int)"
   ]
  },
  {
   "cell_type": "code",
   "execution_count": 18,
   "id": "e1c27927",
   "metadata": {
    "ExecuteTime": {
     "end_time": "2023-10-31T04:01:46.168804Z",
     "start_time": "2023-10-31T04:01:46.143711Z"
    }
   },
   "outputs": [
    {
     "data": {
      "text/plain": [
       "Ozone      float64\n",
       "Solar.R    float64\n",
       "Wind       float64\n",
       "Month       object\n",
       "Day          int64\n",
       "Year         int64\n",
       "Temp         int64\n",
       "Weather     object\n",
       "dtype: object"
      ]
     },
     "execution_count": 18,
     "metadata": {},
     "output_type": "execute_result"
    }
   ],
   "source": [
    "df.dtypes"
   ]
  },
  {
   "cell_type": "code",
   "execution_count": 21,
   "id": "6a6f9e0a",
   "metadata": {
    "ExecuteTime": {
     "end_time": "2023-10-31T04:04:00.923540Z",
     "start_time": "2023-10-31T04:04:00.869750Z"
    }
   },
   "outputs": [
    {
     "data": {
      "text/html": [
       "<div>\n",
       "<style scoped>\n",
       "    .dataframe tbody tr th:only-of-type {\n",
       "        vertical-align: middle;\n",
       "    }\n",
       "\n",
       "    .dataframe tbody tr th {\n",
       "        vertical-align: top;\n",
       "    }\n",
       "\n",
       "    .dataframe thead th {\n",
       "        text-align: right;\n",
       "    }\n",
       "</style>\n",
       "<table border=\"1\" class=\"dataframe\">\n",
       "  <thead>\n",
       "    <tr style=\"text-align: right;\">\n",
       "      <th></th>\n",
       "      <th>Ozone</th>\n",
       "      <th>Solar.R</th>\n",
       "      <th>Wind</th>\n",
       "      <th>Month</th>\n",
       "      <th>Day</th>\n",
       "      <th>Year</th>\n",
       "      <th>Temp</th>\n",
       "      <th>Weather</th>\n",
       "      <th>Location</th>\n",
       "    </tr>\n",
       "  </thead>\n",
       "  <tbody>\n",
       "    <tr>\n",
       "      <th>1</th>\n",
       "      <td>41.0</td>\n",
       "      <td>190.0</td>\n",
       "      <td>7.4</td>\n",
       "      <td>5</td>\n",
       "      <td>1</td>\n",
       "      <td>2010</td>\n",
       "      <td>67</td>\n",
       "      <td>S</td>\n",
       "      <td>Pune</td>\n",
       "    </tr>\n",
       "    <tr>\n",
       "      <th>2</th>\n",
       "      <td>36.0</td>\n",
       "      <td>118.0</td>\n",
       "      <td>8.0</td>\n",
       "      <td>5</td>\n",
       "      <td>2</td>\n",
       "      <td>2010</td>\n",
       "      <td>72</td>\n",
       "      <td>C</td>\n",
       "      <td>Pune</td>\n",
       "    </tr>\n",
       "    <tr>\n",
       "      <th>3</th>\n",
       "      <td>12.0</td>\n",
       "      <td>149.0</td>\n",
       "      <td>12.6</td>\n",
       "      <td>5</td>\n",
       "      <td>3</td>\n",
       "      <td>2010</td>\n",
       "      <td>74</td>\n",
       "      <td>PS</td>\n",
       "      <td>Pune</td>\n",
       "    </tr>\n",
       "    <tr>\n",
       "      <th>4</th>\n",
       "      <td>18.0</td>\n",
       "      <td>313.0</td>\n",
       "      <td>11.5</td>\n",
       "      <td>5</td>\n",
       "      <td>4</td>\n",
       "      <td>2010</td>\n",
       "      <td>62</td>\n",
       "      <td>S</td>\n",
       "      <td>Pune</td>\n",
       "    </tr>\n",
       "    <tr>\n",
       "      <th>5</th>\n",
       "      <td>NaN</td>\n",
       "      <td>NaN</td>\n",
       "      <td>14.3</td>\n",
       "      <td>5</td>\n",
       "      <td>5</td>\n",
       "      <td>2010</td>\n",
       "      <td>56</td>\n",
       "      <td>S</td>\n",
       "      <td>Pune</td>\n",
       "    </tr>\n",
       "    <tr>\n",
       "      <th>...</th>\n",
       "      <td>...</td>\n",
       "      <td>...</td>\n",
       "      <td>...</td>\n",
       "      <td>...</td>\n",
       "      <td>...</td>\n",
       "      <td>...</td>\n",
       "      <td>...</td>\n",
       "      <td>...</td>\n",
       "      <td>...</td>\n",
       "    </tr>\n",
       "    <tr>\n",
       "      <th>154</th>\n",
       "      <td>41.0</td>\n",
       "      <td>190.0</td>\n",
       "      <td>7.4</td>\n",
       "      <td>5</td>\n",
       "      <td>1</td>\n",
       "      <td>2010</td>\n",
       "      <td>67</td>\n",
       "      <td>C</td>\n",
       "      <td>Pune</td>\n",
       "    </tr>\n",
       "    <tr>\n",
       "      <th>155</th>\n",
       "      <td>30.0</td>\n",
       "      <td>193.0</td>\n",
       "      <td>6.9</td>\n",
       "      <td>9</td>\n",
       "      <td>26</td>\n",
       "      <td>2010</td>\n",
       "      <td>70</td>\n",
       "      <td>PS</td>\n",
       "      <td>Pune</td>\n",
       "    </tr>\n",
       "    <tr>\n",
       "      <th>156</th>\n",
       "      <td>NaN</td>\n",
       "      <td>145.0</td>\n",
       "      <td>13.2</td>\n",
       "      <td>9</td>\n",
       "      <td>27</td>\n",
       "      <td>2010</td>\n",
       "      <td>77</td>\n",
       "      <td>S</td>\n",
       "      <td>Pune</td>\n",
       "    </tr>\n",
       "    <tr>\n",
       "      <th>157</th>\n",
       "      <td>14.0</td>\n",
       "      <td>191.0</td>\n",
       "      <td>14.3</td>\n",
       "      <td>9</td>\n",
       "      <td>28</td>\n",
       "      <td>2010</td>\n",
       "      <td>75</td>\n",
       "      <td>S</td>\n",
       "      <td>Pune</td>\n",
       "    </tr>\n",
       "    <tr>\n",
       "      <th>158</th>\n",
       "      <td>18.0</td>\n",
       "      <td>131.0</td>\n",
       "      <td>8.0</td>\n",
       "      <td>9</td>\n",
       "      <td>29</td>\n",
       "      <td>2010</td>\n",
       "      <td>76</td>\n",
       "      <td>C</td>\n",
       "      <td>Pune</td>\n",
       "    </tr>\n",
       "  </tbody>\n",
       "</table>\n",
       "<p>158 rows × 9 columns</p>\n",
       "</div>"
      ],
      "text/plain": [
       "     Ozone  Solar.R  Wind Month  Day  Year  Temp Weather Location\n",
       "1     41.0    190.0   7.4     5    1  2010    67       S     Pune\n",
       "2     36.0    118.0   8.0     5    2  2010    72       C     Pune\n",
       "3     12.0    149.0  12.6     5    3  2010    74      PS     Pune\n",
       "4     18.0    313.0  11.5     5    4  2010    62       S     Pune\n",
       "5      NaN      NaN  14.3     5    5  2010    56       S     Pune\n",
       "..     ...      ...   ...   ...  ...   ...   ...     ...      ...\n",
       "154   41.0    190.0   7.4     5    1  2010    67       C     Pune\n",
       "155   30.0    193.0   6.9     9   26  2010    70      PS     Pune\n",
       "156    NaN    145.0  13.2     9   27  2010    77       S     Pune\n",
       "157   14.0    191.0  14.3     9   28  2010    75       S     Pune\n",
       "158   18.0    131.0   8.0     9   29  2010    76       C     Pune\n",
       "\n",
       "[158 rows x 9 columns]"
      ]
     },
     "execution_count": 21,
     "metadata": {},
     "output_type": "execute_result"
    }
   ],
   "source": [
    "df['Location'] = 'Pune'\n",
    "df"
   ]
  },
  {
   "cell_type": "code",
   "execution_count": 22,
   "id": "01ea769e",
   "metadata": {
    "ExecuteTime": {
     "end_time": "2023-10-31T04:04:25.012104Z",
     "start_time": "2023-10-31T04:04:24.987207Z"
    }
   },
   "outputs": [],
   "source": [
    "df['Month'] = df['Month'].astype(int)"
   ]
  },
  {
   "cell_type": "code",
   "execution_count": 23,
   "id": "abfd9ce0",
   "metadata": {
    "ExecuteTime": {
     "end_time": "2023-10-31T04:04:29.109407Z",
     "start_time": "2023-10-31T04:04:29.096719Z"
    }
   },
   "outputs": [
    {
     "data": {
      "text/plain": [
       "Ozone       float64\n",
       "Solar.R     float64\n",
       "Wind        float64\n",
       "Month         int32\n",
       "Day           int64\n",
       "Year          int64\n",
       "Temp          int64\n",
       "Weather      object\n",
       "Location     object\n",
       "dtype: object"
      ]
     },
     "execution_count": 23,
     "metadata": {},
     "output_type": "execute_result"
    }
   ],
   "source": [
    "df.dtypes"
   ]
  },
  {
   "cell_type": "code",
   "execution_count": null,
   "id": "baa211b1",
   "metadata": {
    "ExecuteTime": {
     "end_time": "2023-10-01T04:33:53.401336Z",
     "start_time": "2023-10-01T04:33:53.370480Z"
    }
   },
   "outputs": [],
   "source": [
    "#Another way to converting data types of column is to use pd.to_numeric()"
   ]
  },
  {
   "cell_type": "markdown",
   "id": "23cb4627",
   "metadata": {},
   "source": [
    "# Duplicates"
   ]
  },
  {
   "cell_type": "code",
   "execution_count": 26,
   "id": "adaf14a4",
   "metadata": {
    "ExecuteTime": {
     "end_time": "2023-10-31T04:05:37.788211Z",
     "start_time": "2023-10-31T04:05:37.767693Z"
    }
   },
   "outputs": [
    {
     "data": {
      "text/html": [
       "<div>\n",
       "<style scoped>\n",
       "    .dataframe tbody tr th:only-of-type {\n",
       "        vertical-align: middle;\n",
       "    }\n",
       "\n",
       "    .dataframe tbody tr th {\n",
       "        vertical-align: top;\n",
       "    }\n",
       "\n",
       "    .dataframe thead th {\n",
       "        text-align: right;\n",
       "    }\n",
       "</style>\n",
       "<table border=\"1\" class=\"dataframe\">\n",
       "  <thead>\n",
       "    <tr style=\"text-align: right;\">\n",
       "      <th></th>\n",
       "      <th>Ozone</th>\n",
       "      <th>Solar.R</th>\n",
       "      <th>Wind</th>\n",
       "      <th>Month</th>\n",
       "      <th>Day</th>\n",
       "      <th>Year</th>\n",
       "      <th>Temp</th>\n",
       "      <th>Weather</th>\n",
       "    </tr>\n",
       "  </thead>\n",
       "  <tbody>\n",
       "    <tr>\n",
       "      <th>1</th>\n",
       "      <td>41.0</td>\n",
       "      <td>190.0</td>\n",
       "      <td>7.4</td>\n",
       "      <td>5</td>\n",
       "      <td>1</td>\n",
       "      <td>2010</td>\n",
       "      <td>67</td>\n",
       "      <td>S</td>\n",
       "    </tr>\n",
       "    <tr>\n",
       "      <th>2</th>\n",
       "      <td>36.0</td>\n",
       "      <td>118.0</td>\n",
       "      <td>8.0</td>\n",
       "      <td>5</td>\n",
       "      <td>2</td>\n",
       "      <td>2010</td>\n",
       "      <td>72</td>\n",
       "      <td>C</td>\n",
       "    </tr>\n",
       "    <tr>\n",
       "      <th>3</th>\n",
       "      <td>12.0</td>\n",
       "      <td>149.0</td>\n",
       "      <td>12.6</td>\n",
       "      <td>5</td>\n",
       "      <td>3</td>\n",
       "      <td>2010</td>\n",
       "      <td>74</td>\n",
       "      <td>PS</td>\n",
       "    </tr>\n",
       "    <tr>\n",
       "      <th>4</th>\n",
       "      <td>18.0</td>\n",
       "      <td>313.0</td>\n",
       "      <td>11.5</td>\n",
       "      <td>5</td>\n",
       "      <td>4</td>\n",
       "      <td>2010</td>\n",
       "      <td>62</td>\n",
       "      <td>S</td>\n",
       "    </tr>\n",
       "    <tr>\n",
       "      <th>5</th>\n",
       "      <td>NaN</td>\n",
       "      <td>NaN</td>\n",
       "      <td>14.3</td>\n",
       "      <td>5</td>\n",
       "      <td>5</td>\n",
       "      <td>2010</td>\n",
       "      <td>56</td>\n",
       "      <td>S</td>\n",
       "    </tr>\n",
       "    <tr>\n",
       "      <th>...</th>\n",
       "      <td>...</td>\n",
       "      <td>...</td>\n",
       "      <td>...</td>\n",
       "      <td>...</td>\n",
       "      <td>...</td>\n",
       "      <td>...</td>\n",
       "      <td>...</td>\n",
       "      <td>...</td>\n",
       "    </tr>\n",
       "    <tr>\n",
       "      <th>154</th>\n",
       "      <td>41.0</td>\n",
       "      <td>190.0</td>\n",
       "      <td>7.4</td>\n",
       "      <td>5</td>\n",
       "      <td>1</td>\n",
       "      <td>2010</td>\n",
       "      <td>67</td>\n",
       "      <td>C</td>\n",
       "    </tr>\n",
       "    <tr>\n",
       "      <th>155</th>\n",
       "      <td>30.0</td>\n",
       "      <td>193.0</td>\n",
       "      <td>6.9</td>\n",
       "      <td>9</td>\n",
       "      <td>26</td>\n",
       "      <td>2010</td>\n",
       "      <td>70</td>\n",
       "      <td>PS</td>\n",
       "    </tr>\n",
       "    <tr>\n",
       "      <th>156</th>\n",
       "      <td>NaN</td>\n",
       "      <td>145.0</td>\n",
       "      <td>13.2</td>\n",
       "      <td>9</td>\n",
       "      <td>27</td>\n",
       "      <td>2010</td>\n",
       "      <td>77</td>\n",
       "      <td>S</td>\n",
       "    </tr>\n",
       "    <tr>\n",
       "      <th>157</th>\n",
       "      <td>14.0</td>\n",
       "      <td>191.0</td>\n",
       "      <td>14.3</td>\n",
       "      <td>9</td>\n",
       "      <td>28</td>\n",
       "      <td>2010</td>\n",
       "      <td>75</td>\n",
       "      <td>S</td>\n",
       "    </tr>\n",
       "    <tr>\n",
       "      <th>158</th>\n",
       "      <td>18.0</td>\n",
       "      <td>131.0</td>\n",
       "      <td>8.0</td>\n",
       "      <td>9</td>\n",
       "      <td>29</td>\n",
       "      <td>2010</td>\n",
       "      <td>76</td>\n",
       "      <td>C</td>\n",
       "    </tr>\n",
       "  </tbody>\n",
       "</table>\n",
       "<p>158 rows × 8 columns</p>\n",
       "</div>"
      ],
      "text/plain": [
       "     Ozone  Solar.R  Wind  Month  Day  Year  Temp Weather\n",
       "1     41.0    190.0   7.4      5    1  2010    67       S\n",
       "2     36.0    118.0   8.0      5    2  2010    72       C\n",
       "3     12.0    149.0  12.6      5    3  2010    74      PS\n",
       "4     18.0    313.0  11.5      5    4  2010    62       S\n",
       "5      NaN      NaN  14.3      5    5  2010    56       S\n",
       "..     ...      ...   ...    ...  ...   ...   ...     ...\n",
       "154   41.0    190.0   7.4      5    1  2010    67       C\n",
       "155   30.0    193.0   6.9      9   26  2010    70      PS\n",
       "156    NaN    145.0  13.2      9   27  2010    77       S\n",
       "157   14.0    191.0  14.3      9   28  2010    75       S\n",
       "158   18.0    131.0   8.0      9   29  2010    76       C\n",
       "\n",
       "[158 rows x 8 columns]"
      ]
     },
     "execution_count": 26,
     "metadata": {},
     "output_type": "execute_result"
    }
   ],
   "source": [
    "df"
   ]
  },
  {
   "cell_type": "code",
   "execution_count": 27,
   "id": "365599de",
   "metadata": {
    "ExecuteTime": {
     "end_time": "2023-10-31T04:06:08.327957Z",
     "start_time": "2023-10-31T04:06:08.273659Z"
    }
   },
   "outputs": [
    {
     "data": {
      "text/plain": [
       "1      False\n",
       "2      False\n",
       "3      False\n",
       "4      False\n",
       "5      False\n",
       "       ...  \n",
       "154    False\n",
       "155    False\n",
       "156    False\n",
       "157     True\n",
       "158    False\n",
       "Length: 158, dtype: bool"
      ]
     },
     "execution_count": 27,
     "metadata": {},
     "output_type": "execute_result"
    }
   ],
   "source": [
    "df.duplicated()"
   ]
  },
  {
   "cell_type": "code",
   "execution_count": 30,
   "id": "64bdc544",
   "metadata": {
    "ExecuteTime": {
     "end_time": "2023-10-31T04:08:29.595672Z",
     "start_time": "2023-10-31T04:08:29.578703Z"
    }
   },
   "outputs": [
    {
     "data": {
      "text/plain": [
       "1"
      ]
     },
     "execution_count": 30,
     "metadata": {},
     "output_type": "execute_result"
    }
   ],
   "source": [
    "df.duplicated().sum()"
   ]
  },
  {
   "cell_type": "code",
   "execution_count": null,
   "id": "a8f10a20",
   "metadata": {
    "ExecuteTime": {
     "end_time": "2023-10-01T04:33:53.541039Z",
     "start_time": "2023-10-01T04:33:53.526958Z"
    }
   },
   "outputs": [],
   "source": [
    "#Print the duplicated values"
   ]
  },
  {
   "cell_type": "code",
   "execution_count": 31,
   "id": "4afc4021",
   "metadata": {
    "ExecuteTime": {
     "end_time": "2023-10-31T04:10:10.941506Z",
     "start_time": "2023-10-31T04:10:10.905543Z"
    }
   },
   "outputs": [
    {
     "data": {
      "text/html": [
       "<div>\n",
       "<style scoped>\n",
       "    .dataframe tbody tr th:only-of-type {\n",
       "        vertical-align: middle;\n",
       "    }\n",
       "\n",
       "    .dataframe tbody tr th {\n",
       "        vertical-align: top;\n",
       "    }\n",
       "\n",
       "    .dataframe thead th {\n",
       "        text-align: right;\n",
       "    }\n",
       "</style>\n",
       "<table border=\"1\" class=\"dataframe\">\n",
       "  <thead>\n",
       "    <tr style=\"text-align: right;\">\n",
       "      <th></th>\n",
       "      <th>Ozone</th>\n",
       "      <th>Solar.R</th>\n",
       "      <th>Wind</th>\n",
       "      <th>Month</th>\n",
       "      <th>Day</th>\n",
       "      <th>Year</th>\n",
       "      <th>Temp</th>\n",
       "      <th>Weather</th>\n",
       "    </tr>\n",
       "  </thead>\n",
       "  <tbody>\n",
       "    <tr>\n",
       "      <th>157</th>\n",
       "      <td>14.0</td>\n",
       "      <td>191.0</td>\n",
       "      <td>14.3</td>\n",
       "      <td>9</td>\n",
       "      <td>28</td>\n",
       "      <td>2010</td>\n",
       "      <td>75</td>\n",
       "      <td>S</td>\n",
       "    </tr>\n",
       "  </tbody>\n",
       "</table>\n",
       "</div>"
      ],
      "text/plain": [
       "     Ozone  Solar.R  Wind  Month  Day  Year  Temp Weather\n",
       "157   14.0    191.0  14.3      9   28  2010    75       S"
      ]
     },
     "execution_count": 31,
     "metadata": {},
     "output_type": "execute_result"
    }
   ],
   "source": [
    "df[df.duplicated()]"
   ]
  },
  {
   "cell_type": "code",
   "execution_count": 32,
   "id": "ece926a3",
   "metadata": {
    "ExecuteTime": {
     "end_time": "2023-10-31T04:11:08.164834Z",
     "start_time": "2023-10-31T04:11:08.133932Z"
    },
    "scrolled": true
   },
   "outputs": [
    {
     "data": {
      "text/html": [
       "<div>\n",
       "<style scoped>\n",
       "    .dataframe tbody tr th:only-of-type {\n",
       "        vertical-align: middle;\n",
       "    }\n",
       "\n",
       "    .dataframe tbody tr th {\n",
       "        vertical-align: top;\n",
       "    }\n",
       "\n",
       "    .dataframe thead th {\n",
       "        text-align: right;\n",
       "    }\n",
       "</style>\n",
       "<table border=\"1\" class=\"dataframe\">\n",
       "  <thead>\n",
       "    <tr style=\"text-align: right;\">\n",
       "      <th></th>\n",
       "      <th>Ozone</th>\n",
       "      <th>Solar.R</th>\n",
       "      <th>Wind</th>\n",
       "      <th>Month</th>\n",
       "      <th>Day</th>\n",
       "      <th>Year</th>\n",
       "      <th>Temp</th>\n",
       "      <th>Weather</th>\n",
       "    </tr>\n",
       "  </thead>\n",
       "  <tbody>\n",
       "    <tr>\n",
       "      <th>151</th>\n",
       "      <td>14.0</td>\n",
       "      <td>191.0</td>\n",
       "      <td>14.3</td>\n",
       "      <td>9</td>\n",
       "      <td>28</td>\n",
       "      <td>2010</td>\n",
       "      <td>75</td>\n",
       "      <td>S</td>\n",
       "    </tr>\n",
       "    <tr>\n",
       "      <th>157</th>\n",
       "      <td>14.0</td>\n",
       "      <td>191.0</td>\n",
       "      <td>14.3</td>\n",
       "      <td>9</td>\n",
       "      <td>28</td>\n",
       "      <td>2010</td>\n",
       "      <td>75</td>\n",
       "      <td>S</td>\n",
       "    </tr>\n",
       "  </tbody>\n",
       "</table>\n",
       "</div>"
      ],
      "text/plain": [
       "     Ozone  Solar.R  Wind  Month  Day  Year  Temp Weather\n",
       "151   14.0    191.0  14.3      9   28  2010    75       S\n",
       "157   14.0    191.0  14.3      9   28  2010    75       S"
      ]
     },
     "execution_count": 32,
     "metadata": {},
     "output_type": "execute_result"
    }
   ],
   "source": [
    "df[(df['Ozone'] == 14.0) & (df['Solar.R'] ==191.0)]"
   ]
  },
  {
   "cell_type": "code",
   "execution_count": 33,
   "id": "63341cbe",
   "metadata": {
    "ExecuteTime": {
     "end_time": "2023-10-31T04:13:57.172137Z",
     "start_time": "2023-10-31T04:13:57.147996Z"
    }
   },
   "outputs": [
    {
     "data": {
      "text/plain": [
       "1      False\n",
       "2      False\n",
       "3      False\n",
       "4      False\n",
       "5      False\n",
       "       ...  \n",
       "154    False\n",
       "155    False\n",
       "156    False\n",
       "157    False\n",
       "158    False\n",
       "Length: 158, dtype: bool"
      ]
     },
     "execution_count": 33,
     "metadata": {},
     "output_type": "execute_result"
    }
   ],
   "source": [
    "df.duplicated(keep='last')"
   ]
  },
  {
   "cell_type": "code",
   "execution_count": 34,
   "id": "010587dd",
   "metadata": {
    "ExecuteTime": {
     "end_time": "2023-10-31T04:14:28.515808Z",
     "start_time": "2023-10-31T04:14:28.506563Z"
    }
   },
   "outputs": [
    {
     "data": {
      "text/plain": [
       "1      False\n",
       "2      False\n",
       "3      False\n",
       "4      False\n",
       "5      False\n",
       "       ...  \n",
       "154    False\n",
       "155    False\n",
       "156    False\n",
       "157     True\n",
       "158    False\n",
       "Length: 158, dtype: bool"
      ]
     },
     "execution_count": 34,
     "metadata": {},
     "output_type": "execute_result"
    }
   ],
   "source": [
    "df.duplicated(keep = False)"
   ]
  },
  {
   "cell_type": "code",
   "execution_count": 35,
   "id": "aa3dfda3",
   "metadata": {
    "ExecuteTime": {
     "end_time": "2023-10-31T04:14:53.666985Z",
     "start_time": "2023-10-31T04:14:53.637652Z"
    }
   },
   "outputs": [
    {
     "data": {
      "text/html": [
       "<div>\n",
       "<style scoped>\n",
       "    .dataframe tbody tr th:only-of-type {\n",
       "        vertical-align: middle;\n",
       "    }\n",
       "\n",
       "    .dataframe tbody tr th {\n",
       "        vertical-align: top;\n",
       "    }\n",
       "\n",
       "    .dataframe thead th {\n",
       "        text-align: right;\n",
       "    }\n",
       "</style>\n",
       "<table border=\"1\" class=\"dataframe\">\n",
       "  <thead>\n",
       "    <tr style=\"text-align: right;\">\n",
       "      <th></th>\n",
       "      <th>Ozone</th>\n",
       "      <th>Solar.R</th>\n",
       "      <th>Wind</th>\n",
       "      <th>Month</th>\n",
       "      <th>Day</th>\n",
       "      <th>Year</th>\n",
       "      <th>Temp</th>\n",
       "      <th>Weather</th>\n",
       "    </tr>\n",
       "  </thead>\n",
       "  <tbody>\n",
       "    <tr>\n",
       "      <th>151</th>\n",
       "      <td>14.0</td>\n",
       "      <td>191.0</td>\n",
       "      <td>14.3</td>\n",
       "      <td>9</td>\n",
       "      <td>28</td>\n",
       "      <td>2010</td>\n",
       "      <td>75</td>\n",
       "      <td>S</td>\n",
       "    </tr>\n",
       "    <tr>\n",
       "      <th>157</th>\n",
       "      <td>14.0</td>\n",
       "      <td>191.0</td>\n",
       "      <td>14.3</td>\n",
       "      <td>9</td>\n",
       "      <td>28</td>\n",
       "      <td>2010</td>\n",
       "      <td>75</td>\n",
       "      <td>S</td>\n",
       "    </tr>\n",
       "  </tbody>\n",
       "</table>\n",
       "</div>"
      ],
      "text/plain": [
       "     Ozone  Solar.R  Wind  Month  Day  Year  Temp Weather\n",
       "151   14.0    191.0  14.3      9   28  2010    75       S\n",
       "157   14.0    191.0  14.3      9   28  2010    75       S"
      ]
     },
     "execution_count": 35,
     "metadata": {},
     "output_type": "execute_result"
    }
   ],
   "source": [
    "df[df.duplicated(keep=False)]"
   ]
  },
  {
   "cell_type": "code",
   "execution_count": null,
   "id": "70a8f03f",
   "metadata": {
    "ExecuteTime": {
     "end_time": "2023-10-01T04:33:53.788775Z",
     "start_time": "2023-10-01T04:33:53.780947Z"
    }
   },
   "outputs": [],
   "source": [
    "#Drop Duplicated records"
   ]
  },
  {
   "cell_type": "code",
   "execution_count": 36,
   "id": "5152f363",
   "metadata": {
    "ExecuteTime": {
     "end_time": "2023-10-31T04:16:05.413981Z",
     "start_time": "2023-10-31T04:16:05.389277Z"
    }
   },
   "outputs": [],
   "source": [
    "df.drop_duplicates(inplace=True)"
   ]
  },
  {
   "cell_type": "code",
   "execution_count": 37,
   "id": "bc397cb4",
   "metadata": {
    "ExecuteTime": {
     "end_time": "2023-10-31T04:16:17.850148Z",
     "start_time": "2023-10-31T04:16:17.833680Z"
    }
   },
   "outputs": [
    {
     "data": {
      "text/plain": [
       "(157, 8)"
      ]
     },
     "execution_count": 37,
     "metadata": {},
     "output_type": "execute_result"
    }
   ],
   "source": [
    "df.shape"
   ]
  },
  {
   "cell_type": "code",
   "execution_count": 38,
   "id": "0cdb69f1",
   "metadata": {
    "ExecuteTime": {
     "end_time": "2023-10-31T04:16:27.111941Z",
     "start_time": "2023-10-31T04:16:27.096333Z"
    }
   },
   "outputs": [
    {
     "data": {
      "text/plain": [
       "0"
      ]
     },
     "execution_count": 38,
     "metadata": {},
     "output_type": "execute_result"
    }
   ],
   "source": [
    "df.duplicated().sum()"
   ]
  },
  {
   "cell_type": "markdown",
   "id": "cb57c9c7",
   "metadata": {},
   "source": [
    "# Drop columns"
   ]
  },
  {
   "cell_type": "markdown",
   "id": "bb74fc55",
   "metadata": {},
   "source": [
    "- There is one column which only has single different value.\n",
    "- We need to get rid of all the uneccesary columns or else it will be very complex data."
   ]
  },
  {
   "cell_type": "code",
   "execution_count": 39,
   "id": "efb5e5e3",
   "metadata": {
    "ExecuteTime": {
     "end_time": "2023-10-31T04:17:15.268744Z",
     "start_time": "2023-10-31T04:17:15.226039Z"
    }
   },
   "outputs": [
    {
     "data": {
      "text/html": [
       "<div>\n",
       "<style scoped>\n",
       "    .dataframe tbody tr th:only-of-type {\n",
       "        vertical-align: middle;\n",
       "    }\n",
       "\n",
       "    .dataframe tbody tr th {\n",
       "        vertical-align: top;\n",
       "    }\n",
       "\n",
       "    .dataframe thead th {\n",
       "        text-align: right;\n",
       "    }\n",
       "</style>\n",
       "<table border=\"1\" class=\"dataframe\">\n",
       "  <thead>\n",
       "    <tr style=\"text-align: right;\">\n",
       "      <th></th>\n",
       "      <th>Ozone</th>\n",
       "      <th>Solar.R</th>\n",
       "      <th>Wind</th>\n",
       "      <th>Month</th>\n",
       "      <th>Day</th>\n",
       "      <th>Year</th>\n",
       "      <th>Temp</th>\n",
       "      <th>Weather</th>\n",
       "    </tr>\n",
       "  </thead>\n",
       "  <tbody>\n",
       "    <tr>\n",
       "      <th>1</th>\n",
       "      <td>41.0</td>\n",
       "      <td>190.0</td>\n",
       "      <td>7.4</td>\n",
       "      <td>5</td>\n",
       "      <td>1</td>\n",
       "      <td>2010</td>\n",
       "      <td>67</td>\n",
       "      <td>S</td>\n",
       "    </tr>\n",
       "    <tr>\n",
       "      <th>2</th>\n",
       "      <td>36.0</td>\n",
       "      <td>118.0</td>\n",
       "      <td>8.0</td>\n",
       "      <td>5</td>\n",
       "      <td>2</td>\n",
       "      <td>2010</td>\n",
       "      <td>72</td>\n",
       "      <td>C</td>\n",
       "    </tr>\n",
       "    <tr>\n",
       "      <th>3</th>\n",
       "      <td>12.0</td>\n",
       "      <td>149.0</td>\n",
       "      <td>12.6</td>\n",
       "      <td>5</td>\n",
       "      <td>3</td>\n",
       "      <td>2010</td>\n",
       "      <td>74</td>\n",
       "      <td>PS</td>\n",
       "    </tr>\n",
       "    <tr>\n",
       "      <th>4</th>\n",
       "      <td>18.0</td>\n",
       "      <td>313.0</td>\n",
       "      <td>11.5</td>\n",
       "      <td>5</td>\n",
       "      <td>4</td>\n",
       "      <td>2010</td>\n",
       "      <td>62</td>\n",
       "      <td>S</td>\n",
       "    </tr>\n",
       "    <tr>\n",
       "      <th>5</th>\n",
       "      <td>NaN</td>\n",
       "      <td>NaN</td>\n",
       "      <td>14.3</td>\n",
       "      <td>5</td>\n",
       "      <td>5</td>\n",
       "      <td>2010</td>\n",
       "      <td>56</td>\n",
       "      <td>S</td>\n",
       "    </tr>\n",
       "  </tbody>\n",
       "</table>\n",
       "</div>"
      ],
      "text/plain": [
       "   Ozone  Solar.R  Wind  Month  Day  Year  Temp Weather\n",
       "1   41.0    190.0   7.4      5    1  2010    67       S\n",
       "2   36.0    118.0   8.0      5    2  2010    72       C\n",
       "3   12.0    149.0  12.6      5    3  2010    74      PS\n",
       "4   18.0    313.0  11.5      5    4  2010    62       S\n",
       "5    NaN      NaN  14.3      5    5  2010    56       S"
      ]
     },
     "execution_count": 39,
     "metadata": {},
     "output_type": "execute_result"
    }
   ],
   "source": [
    "df.head()"
   ]
  },
  {
   "cell_type": "code",
   "execution_count": 40,
   "id": "79b23168",
   "metadata": {
    "ExecuteTime": {
     "end_time": "2023-10-31T04:18:14.711003Z",
     "start_time": "2023-10-31T04:18:14.698824Z"
    }
   },
   "outputs": [],
   "source": [
    "df.drop(columns=['Year'], inplace=True)"
   ]
  },
  {
   "cell_type": "code",
   "execution_count": 41,
   "id": "8a2b56b1",
   "metadata": {
    "ExecuteTime": {
     "end_time": "2023-10-31T04:18:20.654772Z",
     "start_time": "2023-10-31T04:18:20.631084Z"
    }
   },
   "outputs": [
    {
     "data": {
      "text/html": [
       "<div>\n",
       "<style scoped>\n",
       "    .dataframe tbody tr th:only-of-type {\n",
       "        vertical-align: middle;\n",
       "    }\n",
       "\n",
       "    .dataframe tbody tr th {\n",
       "        vertical-align: top;\n",
       "    }\n",
       "\n",
       "    .dataframe thead th {\n",
       "        text-align: right;\n",
       "    }\n",
       "</style>\n",
       "<table border=\"1\" class=\"dataframe\">\n",
       "  <thead>\n",
       "    <tr style=\"text-align: right;\">\n",
       "      <th></th>\n",
       "      <th>Ozone</th>\n",
       "      <th>Solar.R</th>\n",
       "      <th>Wind</th>\n",
       "      <th>Month</th>\n",
       "      <th>Day</th>\n",
       "      <th>Temp</th>\n",
       "      <th>Weather</th>\n",
       "    </tr>\n",
       "  </thead>\n",
       "  <tbody>\n",
       "    <tr>\n",
       "      <th>1</th>\n",
       "      <td>41.0</td>\n",
       "      <td>190.0</td>\n",
       "      <td>7.4</td>\n",
       "      <td>5</td>\n",
       "      <td>1</td>\n",
       "      <td>67</td>\n",
       "      <td>S</td>\n",
       "    </tr>\n",
       "    <tr>\n",
       "      <th>2</th>\n",
       "      <td>36.0</td>\n",
       "      <td>118.0</td>\n",
       "      <td>8.0</td>\n",
       "      <td>5</td>\n",
       "      <td>2</td>\n",
       "      <td>72</td>\n",
       "      <td>C</td>\n",
       "    </tr>\n",
       "    <tr>\n",
       "      <th>3</th>\n",
       "      <td>12.0</td>\n",
       "      <td>149.0</td>\n",
       "      <td>12.6</td>\n",
       "      <td>5</td>\n",
       "      <td>3</td>\n",
       "      <td>74</td>\n",
       "      <td>PS</td>\n",
       "    </tr>\n",
       "    <tr>\n",
       "      <th>4</th>\n",
       "      <td>18.0</td>\n",
       "      <td>313.0</td>\n",
       "      <td>11.5</td>\n",
       "      <td>5</td>\n",
       "      <td>4</td>\n",
       "      <td>62</td>\n",
       "      <td>S</td>\n",
       "    </tr>\n",
       "    <tr>\n",
       "      <th>5</th>\n",
       "      <td>NaN</td>\n",
       "      <td>NaN</td>\n",
       "      <td>14.3</td>\n",
       "      <td>5</td>\n",
       "      <td>5</td>\n",
       "      <td>56</td>\n",
       "      <td>S</td>\n",
       "    </tr>\n",
       "    <tr>\n",
       "      <th>...</th>\n",
       "      <td>...</td>\n",
       "      <td>...</td>\n",
       "      <td>...</td>\n",
       "      <td>...</td>\n",
       "      <td>...</td>\n",
       "      <td>...</td>\n",
       "      <td>...</td>\n",
       "    </tr>\n",
       "    <tr>\n",
       "      <th>153</th>\n",
       "      <td>20.0</td>\n",
       "      <td>223.0</td>\n",
       "      <td>11.5</td>\n",
       "      <td>9</td>\n",
       "      <td>30</td>\n",
       "      <td>68</td>\n",
       "      <td>S</td>\n",
       "    </tr>\n",
       "    <tr>\n",
       "      <th>154</th>\n",
       "      <td>41.0</td>\n",
       "      <td>190.0</td>\n",
       "      <td>7.4</td>\n",
       "      <td>5</td>\n",
       "      <td>1</td>\n",
       "      <td>67</td>\n",
       "      <td>C</td>\n",
       "    </tr>\n",
       "    <tr>\n",
       "      <th>155</th>\n",
       "      <td>30.0</td>\n",
       "      <td>193.0</td>\n",
       "      <td>6.9</td>\n",
       "      <td>9</td>\n",
       "      <td>26</td>\n",
       "      <td>70</td>\n",
       "      <td>PS</td>\n",
       "    </tr>\n",
       "    <tr>\n",
       "      <th>156</th>\n",
       "      <td>NaN</td>\n",
       "      <td>145.0</td>\n",
       "      <td>13.2</td>\n",
       "      <td>9</td>\n",
       "      <td>27</td>\n",
       "      <td>77</td>\n",
       "      <td>S</td>\n",
       "    </tr>\n",
       "    <tr>\n",
       "      <th>158</th>\n",
       "      <td>18.0</td>\n",
       "      <td>131.0</td>\n",
       "      <td>8.0</td>\n",
       "      <td>9</td>\n",
       "      <td>29</td>\n",
       "      <td>76</td>\n",
       "      <td>C</td>\n",
       "    </tr>\n",
       "  </tbody>\n",
       "</table>\n",
       "<p>157 rows × 7 columns</p>\n",
       "</div>"
      ],
      "text/plain": [
       "     Ozone  Solar.R  Wind  Month  Day  Temp Weather\n",
       "1     41.0    190.0   7.4      5    1    67       S\n",
       "2     36.0    118.0   8.0      5    2    72       C\n",
       "3     12.0    149.0  12.6      5    3    74      PS\n",
       "4     18.0    313.0  11.5      5    4    62       S\n",
       "5      NaN      NaN  14.3      5    5    56       S\n",
       "..     ...      ...   ...    ...  ...   ...     ...\n",
       "153   20.0    223.0  11.5      9   30    68       S\n",
       "154   41.0    190.0   7.4      5    1    67       C\n",
       "155   30.0    193.0   6.9      9   26    70      PS\n",
       "156    NaN    145.0  13.2      9   27    77       S\n",
       "158   18.0    131.0   8.0      9   29    76       C\n",
       "\n",
       "[157 rows x 7 columns]"
      ]
     },
     "execution_count": 41,
     "metadata": {},
     "output_type": "execute_result"
    }
   ],
   "source": [
    "df"
   ]
  },
  {
   "cell_type": "code",
   "execution_count": 42,
   "id": "4915b3c4",
   "metadata": {
    "ExecuteTime": {
     "end_time": "2023-10-31T04:19:02.380710Z",
     "start_time": "2023-10-31T04:19:02.354872Z"
    }
   },
   "outputs": [
    {
     "data": {
      "text/html": [
       "<div>\n",
       "<style scoped>\n",
       "    .dataframe tbody tr th:only-of-type {\n",
       "        vertical-align: middle;\n",
       "    }\n",
       "\n",
       "    .dataframe tbody tr th {\n",
       "        vertical-align: top;\n",
       "    }\n",
       "\n",
       "    .dataframe thead th {\n",
       "        text-align: right;\n",
       "    }\n",
       "</style>\n",
       "<table border=\"1\" class=\"dataframe\">\n",
       "  <thead>\n",
       "    <tr style=\"text-align: right;\">\n",
       "      <th></th>\n",
       "      <th>Solar.R</th>\n",
       "      <th>Month</th>\n",
       "      <th>Day</th>\n",
       "      <th>Temp</th>\n",
       "      <th>Weather</th>\n",
       "    </tr>\n",
       "  </thead>\n",
       "  <tbody>\n",
       "    <tr>\n",
       "      <th>1</th>\n",
       "      <td>190.0</td>\n",
       "      <td>5</td>\n",
       "      <td>1</td>\n",
       "      <td>67</td>\n",
       "      <td>S</td>\n",
       "    </tr>\n",
       "    <tr>\n",
       "      <th>2</th>\n",
       "      <td>118.0</td>\n",
       "      <td>5</td>\n",
       "      <td>2</td>\n",
       "      <td>72</td>\n",
       "      <td>C</td>\n",
       "    </tr>\n",
       "    <tr>\n",
       "      <th>3</th>\n",
       "      <td>149.0</td>\n",
       "      <td>5</td>\n",
       "      <td>3</td>\n",
       "      <td>74</td>\n",
       "      <td>PS</td>\n",
       "    </tr>\n",
       "    <tr>\n",
       "      <th>4</th>\n",
       "      <td>313.0</td>\n",
       "      <td>5</td>\n",
       "      <td>4</td>\n",
       "      <td>62</td>\n",
       "      <td>S</td>\n",
       "    </tr>\n",
       "    <tr>\n",
       "      <th>5</th>\n",
       "      <td>NaN</td>\n",
       "      <td>5</td>\n",
       "      <td>5</td>\n",
       "      <td>56</td>\n",
       "      <td>S</td>\n",
       "    </tr>\n",
       "    <tr>\n",
       "      <th>...</th>\n",
       "      <td>...</td>\n",
       "      <td>...</td>\n",
       "      <td>...</td>\n",
       "      <td>...</td>\n",
       "      <td>...</td>\n",
       "    </tr>\n",
       "    <tr>\n",
       "      <th>153</th>\n",
       "      <td>223.0</td>\n",
       "      <td>9</td>\n",
       "      <td>30</td>\n",
       "      <td>68</td>\n",
       "      <td>S</td>\n",
       "    </tr>\n",
       "    <tr>\n",
       "      <th>154</th>\n",
       "      <td>190.0</td>\n",
       "      <td>5</td>\n",
       "      <td>1</td>\n",
       "      <td>67</td>\n",
       "      <td>C</td>\n",
       "    </tr>\n",
       "    <tr>\n",
       "      <th>155</th>\n",
       "      <td>193.0</td>\n",
       "      <td>9</td>\n",
       "      <td>26</td>\n",
       "      <td>70</td>\n",
       "      <td>PS</td>\n",
       "    </tr>\n",
       "    <tr>\n",
       "      <th>156</th>\n",
       "      <td>145.0</td>\n",
       "      <td>9</td>\n",
       "      <td>27</td>\n",
       "      <td>77</td>\n",
       "      <td>S</td>\n",
       "    </tr>\n",
       "    <tr>\n",
       "      <th>158</th>\n",
       "      <td>131.0</td>\n",
       "      <td>9</td>\n",
       "      <td>29</td>\n",
       "      <td>76</td>\n",
       "      <td>C</td>\n",
       "    </tr>\n",
       "  </tbody>\n",
       "</table>\n",
       "<p>157 rows × 5 columns</p>\n",
       "</div>"
      ],
      "text/plain": [
       "     Solar.R  Month  Day  Temp Weather\n",
       "1      190.0      5    1    67       S\n",
       "2      118.0      5    2    72       C\n",
       "3      149.0      5    3    74      PS\n",
       "4      313.0      5    4    62       S\n",
       "5        NaN      5    5    56       S\n",
       "..       ...    ...  ...   ...     ...\n",
       "153    223.0      9   30    68       S\n",
       "154    190.0      5    1    67       C\n",
       "155    193.0      9   26    70      PS\n",
       "156    145.0      9   27    77       S\n",
       "158    131.0      9   29    76       C\n",
       "\n",
       "[157 rows x 5 columns]"
      ]
     },
     "execution_count": 42,
     "metadata": {},
     "output_type": "execute_result"
    }
   ],
   "source": [
    "df.drop(columns=['Ozone','Wind'])"
   ]
  },
  {
   "cell_type": "code",
   "execution_count": 43,
   "id": "aaa5bb40",
   "metadata": {
    "ExecuteTime": {
     "end_time": "2023-10-31T04:19:21.637044Z",
     "start_time": "2023-10-31T04:19:21.595314Z"
    }
   },
   "outputs": [
    {
     "data": {
      "text/html": [
       "<div>\n",
       "<style scoped>\n",
       "    .dataframe tbody tr th:only-of-type {\n",
       "        vertical-align: middle;\n",
       "    }\n",
       "\n",
       "    .dataframe tbody tr th {\n",
       "        vertical-align: top;\n",
       "    }\n",
       "\n",
       "    .dataframe thead th {\n",
       "        text-align: right;\n",
       "    }\n",
       "</style>\n",
       "<table border=\"1\" class=\"dataframe\">\n",
       "  <thead>\n",
       "    <tr style=\"text-align: right;\">\n",
       "      <th></th>\n",
       "      <th>Ozone</th>\n",
       "      <th>Solar.R</th>\n",
       "      <th>Wind</th>\n",
       "      <th>Month</th>\n",
       "      <th>Day</th>\n",
       "      <th>Temp</th>\n",
       "      <th>Weather</th>\n",
       "    </tr>\n",
       "  </thead>\n",
       "  <tbody>\n",
       "    <tr>\n",
       "      <th>1</th>\n",
       "      <td>41.0</td>\n",
       "      <td>190.0</td>\n",
       "      <td>7.4</td>\n",
       "      <td>5</td>\n",
       "      <td>1</td>\n",
       "      <td>67</td>\n",
       "      <td>S</td>\n",
       "    </tr>\n",
       "    <tr>\n",
       "      <th>2</th>\n",
       "      <td>36.0</td>\n",
       "      <td>118.0</td>\n",
       "      <td>8.0</td>\n",
       "      <td>5</td>\n",
       "      <td>2</td>\n",
       "      <td>72</td>\n",
       "      <td>C</td>\n",
       "    </tr>\n",
       "    <tr>\n",
       "      <th>3</th>\n",
       "      <td>12.0</td>\n",
       "      <td>149.0</td>\n",
       "      <td>12.6</td>\n",
       "      <td>5</td>\n",
       "      <td>3</td>\n",
       "      <td>74</td>\n",
       "      <td>PS</td>\n",
       "    </tr>\n",
       "    <tr>\n",
       "      <th>4</th>\n",
       "      <td>18.0</td>\n",
       "      <td>313.0</td>\n",
       "      <td>11.5</td>\n",
       "      <td>5</td>\n",
       "      <td>4</td>\n",
       "      <td>62</td>\n",
       "      <td>S</td>\n",
       "    </tr>\n",
       "    <tr>\n",
       "      <th>5</th>\n",
       "      <td>NaN</td>\n",
       "      <td>NaN</td>\n",
       "      <td>14.3</td>\n",
       "      <td>5</td>\n",
       "      <td>5</td>\n",
       "      <td>56</td>\n",
       "      <td>S</td>\n",
       "    </tr>\n",
       "    <tr>\n",
       "      <th>...</th>\n",
       "      <td>...</td>\n",
       "      <td>...</td>\n",
       "      <td>...</td>\n",
       "      <td>...</td>\n",
       "      <td>...</td>\n",
       "      <td>...</td>\n",
       "      <td>...</td>\n",
       "    </tr>\n",
       "    <tr>\n",
       "      <th>153</th>\n",
       "      <td>20.0</td>\n",
       "      <td>223.0</td>\n",
       "      <td>11.5</td>\n",
       "      <td>9</td>\n",
       "      <td>30</td>\n",
       "      <td>68</td>\n",
       "      <td>S</td>\n",
       "    </tr>\n",
       "    <tr>\n",
       "      <th>154</th>\n",
       "      <td>41.0</td>\n",
       "      <td>190.0</td>\n",
       "      <td>7.4</td>\n",
       "      <td>5</td>\n",
       "      <td>1</td>\n",
       "      <td>67</td>\n",
       "      <td>C</td>\n",
       "    </tr>\n",
       "    <tr>\n",
       "      <th>155</th>\n",
       "      <td>30.0</td>\n",
       "      <td>193.0</td>\n",
       "      <td>6.9</td>\n",
       "      <td>9</td>\n",
       "      <td>26</td>\n",
       "      <td>70</td>\n",
       "      <td>PS</td>\n",
       "    </tr>\n",
       "    <tr>\n",
       "      <th>156</th>\n",
       "      <td>NaN</td>\n",
       "      <td>145.0</td>\n",
       "      <td>13.2</td>\n",
       "      <td>9</td>\n",
       "      <td>27</td>\n",
       "      <td>77</td>\n",
       "      <td>S</td>\n",
       "    </tr>\n",
       "    <tr>\n",
       "      <th>158</th>\n",
       "      <td>18.0</td>\n",
       "      <td>131.0</td>\n",
       "      <td>8.0</td>\n",
       "      <td>9</td>\n",
       "      <td>29</td>\n",
       "      <td>76</td>\n",
       "      <td>C</td>\n",
       "    </tr>\n",
       "  </tbody>\n",
       "</table>\n",
       "<p>157 rows × 7 columns</p>\n",
       "</div>"
      ],
      "text/plain": [
       "     Ozone  Solar.R  Wind  Month  Day  Temp Weather\n",
       "1     41.0    190.0   7.4      5    1    67       S\n",
       "2     36.0    118.0   8.0      5    2    72       C\n",
       "3     12.0    149.0  12.6      5    3    74      PS\n",
       "4     18.0    313.0  11.5      5    4    62       S\n",
       "5      NaN      NaN  14.3      5    5    56       S\n",
       "..     ...      ...   ...    ...  ...   ...     ...\n",
       "153   20.0    223.0  11.5      9   30    68       S\n",
       "154   41.0    190.0   7.4      5    1    67       C\n",
       "155   30.0    193.0   6.9      9   26    70      PS\n",
       "156    NaN    145.0  13.2      9   27    77       S\n",
       "158   18.0    131.0   8.0      9   29    76       C\n",
       "\n",
       "[157 rows x 7 columns]"
      ]
     },
     "execution_count": 43,
     "metadata": {},
     "output_type": "execute_result"
    }
   ],
   "source": [
    "df"
   ]
  },
  {
   "cell_type": "code",
   "execution_count": 45,
   "id": "25c16694",
   "metadata": {
    "ExecuteTime": {
     "end_time": "2023-10-31T04:19:56.972738Z",
     "start_time": "2023-10-31T04:19:56.945021Z"
    }
   },
   "outputs": [
    {
     "data": {
      "text/html": [
       "<div>\n",
       "<style scoped>\n",
       "    .dataframe tbody tr th:only-of-type {\n",
       "        vertical-align: middle;\n",
       "    }\n",
       "\n",
       "    .dataframe tbody tr th {\n",
       "        vertical-align: top;\n",
       "    }\n",
       "\n",
       "    .dataframe thead th {\n",
       "        text-align: right;\n",
       "    }\n",
       "</style>\n",
       "<table border=\"1\" class=\"dataframe\">\n",
       "  <thead>\n",
       "    <tr style=\"text-align: right;\">\n",
       "      <th></th>\n",
       "      <th>Ozone</th>\n",
       "      <th>Solar.R</th>\n",
       "      <th>Wind</th>\n",
       "      <th>Month</th>\n",
       "      <th>Day</th>\n",
       "      <th>Temp</th>\n",
       "      <th>Weather</th>\n",
       "    </tr>\n",
       "  </thead>\n",
       "  <tbody>\n",
       "    <tr>\n",
       "      <th>2</th>\n",
       "      <td>36.0</td>\n",
       "      <td>118.0</td>\n",
       "      <td>8.0</td>\n",
       "      <td>5</td>\n",
       "      <td>2</td>\n",
       "      <td>72</td>\n",
       "      <td>C</td>\n",
       "    </tr>\n",
       "    <tr>\n",
       "      <th>3</th>\n",
       "      <td>12.0</td>\n",
       "      <td>149.0</td>\n",
       "      <td>12.6</td>\n",
       "      <td>5</td>\n",
       "      <td>3</td>\n",
       "      <td>74</td>\n",
       "      <td>PS</td>\n",
       "    </tr>\n",
       "    <tr>\n",
       "      <th>4</th>\n",
       "      <td>18.0</td>\n",
       "      <td>313.0</td>\n",
       "      <td>11.5</td>\n",
       "      <td>5</td>\n",
       "      <td>4</td>\n",
       "      <td>62</td>\n",
       "      <td>S</td>\n",
       "    </tr>\n",
       "    <tr>\n",
       "      <th>5</th>\n",
       "      <td>NaN</td>\n",
       "      <td>NaN</td>\n",
       "      <td>14.3</td>\n",
       "      <td>5</td>\n",
       "      <td>5</td>\n",
       "      <td>56</td>\n",
       "      <td>S</td>\n",
       "    </tr>\n",
       "    <tr>\n",
       "      <th>6</th>\n",
       "      <td>28.0</td>\n",
       "      <td>NaN</td>\n",
       "      <td>14.9</td>\n",
       "      <td>5</td>\n",
       "      <td>6</td>\n",
       "      <td>66</td>\n",
       "      <td>C</td>\n",
       "    </tr>\n",
       "    <tr>\n",
       "      <th>...</th>\n",
       "      <td>...</td>\n",
       "      <td>...</td>\n",
       "      <td>...</td>\n",
       "      <td>...</td>\n",
       "      <td>...</td>\n",
       "      <td>...</td>\n",
       "      <td>...</td>\n",
       "    </tr>\n",
       "    <tr>\n",
       "      <th>152</th>\n",
       "      <td>18.0</td>\n",
       "      <td>131.0</td>\n",
       "      <td>8.0</td>\n",
       "      <td>9</td>\n",
       "      <td>29</td>\n",
       "      <td>76</td>\n",
       "      <td>PS</td>\n",
       "    </tr>\n",
       "    <tr>\n",
       "      <th>154</th>\n",
       "      <td>41.0</td>\n",
       "      <td>190.0</td>\n",
       "      <td>7.4</td>\n",
       "      <td>5</td>\n",
       "      <td>1</td>\n",
       "      <td>67</td>\n",
       "      <td>C</td>\n",
       "    </tr>\n",
       "    <tr>\n",
       "      <th>155</th>\n",
       "      <td>30.0</td>\n",
       "      <td>193.0</td>\n",
       "      <td>6.9</td>\n",
       "      <td>9</td>\n",
       "      <td>26</td>\n",
       "      <td>70</td>\n",
       "      <td>PS</td>\n",
       "    </tr>\n",
       "    <tr>\n",
       "      <th>156</th>\n",
       "      <td>NaN</td>\n",
       "      <td>145.0</td>\n",
       "      <td>13.2</td>\n",
       "      <td>9</td>\n",
       "      <td>27</td>\n",
       "      <td>77</td>\n",
       "      <td>S</td>\n",
       "    </tr>\n",
       "    <tr>\n",
       "      <th>158</th>\n",
       "      <td>18.0</td>\n",
       "      <td>131.0</td>\n",
       "      <td>8.0</td>\n",
       "      <td>9</td>\n",
       "      <td>29</td>\n",
       "      <td>76</td>\n",
       "      <td>C</td>\n",
       "    </tr>\n",
       "  </tbody>\n",
       "</table>\n",
       "<p>155 rows × 7 columns</p>\n",
       "</div>"
      ],
      "text/plain": [
       "     Ozone  Solar.R  Wind  Month  Day  Temp Weather\n",
       "2     36.0    118.0   8.0      5    2    72       C\n",
       "3     12.0    149.0  12.6      5    3    74      PS\n",
       "4     18.0    313.0  11.5      5    4    62       S\n",
       "5      NaN      NaN  14.3      5    5    56       S\n",
       "6     28.0      NaN  14.9      5    6    66       C\n",
       "..     ...      ...   ...    ...  ...   ...     ...\n",
       "152   18.0    131.0   8.0      9   29    76      PS\n",
       "154   41.0    190.0   7.4      5    1    67       C\n",
       "155   30.0    193.0   6.9      9   26    70      PS\n",
       "156    NaN    145.0  13.2      9   27    77       S\n",
       "158   18.0    131.0   8.0      9   29    76       C\n",
       "\n",
       "[155 rows x 7 columns]"
      ]
     },
     "execution_count": 45,
     "metadata": {},
     "output_type": "execute_result"
    }
   ],
   "source": [
    "df.drop(index = [153,1])"
   ]
  },
  {
   "cell_type": "code",
   "execution_count": 46,
   "id": "8af59830",
   "metadata": {
    "ExecuteTime": {
     "end_time": "2023-10-31T04:21:04.488364Z",
     "start_time": "2023-10-31T04:21:04.463664Z"
    }
   },
   "outputs": [
    {
     "data": {
      "text/html": [
       "<div>\n",
       "<style scoped>\n",
       "    .dataframe tbody tr th:only-of-type {\n",
       "        vertical-align: middle;\n",
       "    }\n",
       "\n",
       "    .dataframe tbody tr th {\n",
       "        vertical-align: top;\n",
       "    }\n",
       "\n",
       "    .dataframe thead th {\n",
       "        text-align: right;\n",
       "    }\n",
       "</style>\n",
       "<table border=\"1\" class=\"dataframe\">\n",
       "  <thead>\n",
       "    <tr style=\"text-align: right;\">\n",
       "      <th></th>\n",
       "      <th>Ozone</th>\n",
       "      <th>Solar.R</th>\n",
       "      <th>Wind</th>\n",
       "      <th>Month</th>\n",
       "      <th>Day</th>\n",
       "      <th>Temp</th>\n",
       "      <th>Weather</th>\n",
       "    </tr>\n",
       "  </thead>\n",
       "  <tbody>\n",
       "    <tr>\n",
       "      <th>1</th>\n",
       "      <td>41.0</td>\n",
       "      <td>190.0</td>\n",
       "      <td>7.4</td>\n",
       "      <td>5</td>\n",
       "      <td>1</td>\n",
       "      <td>67</td>\n",
       "      <td>S</td>\n",
       "    </tr>\n",
       "    <tr>\n",
       "      <th>2</th>\n",
       "      <td>36.0</td>\n",
       "      <td>118.0</td>\n",
       "      <td>8.0</td>\n",
       "      <td>5</td>\n",
       "      <td>2</td>\n",
       "      <td>72</td>\n",
       "      <td>C</td>\n",
       "    </tr>\n",
       "    <tr>\n",
       "      <th>3</th>\n",
       "      <td>12.0</td>\n",
       "      <td>149.0</td>\n",
       "      <td>12.6</td>\n",
       "      <td>5</td>\n",
       "      <td>3</td>\n",
       "      <td>74</td>\n",
       "      <td>PS</td>\n",
       "    </tr>\n",
       "    <tr>\n",
       "      <th>4</th>\n",
       "      <td>18.0</td>\n",
       "      <td>313.0</td>\n",
       "      <td>11.5</td>\n",
       "      <td>5</td>\n",
       "      <td>4</td>\n",
       "      <td>62</td>\n",
       "      <td>S</td>\n",
       "    </tr>\n",
       "    <tr>\n",
       "      <th>5</th>\n",
       "      <td>NaN</td>\n",
       "      <td>NaN</td>\n",
       "      <td>14.3</td>\n",
       "      <td>5</td>\n",
       "      <td>5</td>\n",
       "      <td>56</td>\n",
       "      <td>S</td>\n",
       "    </tr>\n",
       "  </tbody>\n",
       "</table>\n",
       "</div>"
      ],
      "text/plain": [
       "   Ozone  Solar.R  Wind  Month  Day  Temp Weather\n",
       "1   41.0    190.0   7.4      5    1    67       S\n",
       "2   36.0    118.0   8.0      5    2    72       C\n",
       "3   12.0    149.0  12.6      5    3    74      PS\n",
       "4   18.0    313.0  11.5      5    4    62       S\n",
       "5    NaN      NaN  14.3      5    5    56       S"
      ]
     },
     "execution_count": 46,
     "metadata": {},
     "output_type": "execute_result"
    }
   ],
   "source": [
    "df.head()"
   ]
  },
  {
   "cell_type": "markdown",
   "id": "98b5b4db",
   "metadata": {},
   "source": [
    "# Rename the columns"
   ]
  },
  {
   "cell_type": "code",
   "execution_count": 47,
   "id": "9e1b6a8b",
   "metadata": {
    "ExecuteTime": {
     "end_time": "2023-10-31T04:21:32.441807Z",
     "start_time": "2023-10-31T04:21:32.410572Z"
    }
   },
   "outputs": [
    {
     "data": {
      "text/html": [
       "<div>\n",
       "<style scoped>\n",
       "    .dataframe tbody tr th:only-of-type {\n",
       "        vertical-align: middle;\n",
       "    }\n",
       "\n",
       "    .dataframe tbody tr th {\n",
       "        vertical-align: top;\n",
       "    }\n",
       "\n",
       "    .dataframe thead th {\n",
       "        text-align: right;\n",
       "    }\n",
       "</style>\n",
       "<table border=\"1\" class=\"dataframe\">\n",
       "  <thead>\n",
       "    <tr style=\"text-align: right;\">\n",
       "      <th></th>\n",
       "      <th>Ozone</th>\n",
       "      <th>Solar.R</th>\n",
       "      <th>Wind</th>\n",
       "      <th>Month</th>\n",
       "      <th>Day</th>\n",
       "      <th>Temp</th>\n",
       "      <th>Weather</th>\n",
       "    </tr>\n",
       "  </thead>\n",
       "  <tbody>\n",
       "    <tr>\n",
       "      <th>1</th>\n",
       "      <td>41.0</td>\n",
       "      <td>190.0</td>\n",
       "      <td>7.4</td>\n",
       "      <td>5</td>\n",
       "      <td>1</td>\n",
       "      <td>67</td>\n",
       "      <td>S</td>\n",
       "    </tr>\n",
       "    <tr>\n",
       "      <th>2</th>\n",
       "      <td>36.0</td>\n",
       "      <td>118.0</td>\n",
       "      <td>8.0</td>\n",
       "      <td>5</td>\n",
       "      <td>2</td>\n",
       "      <td>72</td>\n",
       "      <td>C</td>\n",
       "    </tr>\n",
       "    <tr>\n",
       "      <th>3</th>\n",
       "      <td>12.0</td>\n",
       "      <td>149.0</td>\n",
       "      <td>12.6</td>\n",
       "      <td>5</td>\n",
       "      <td>3</td>\n",
       "      <td>74</td>\n",
       "      <td>PS</td>\n",
       "    </tr>\n",
       "    <tr>\n",
       "      <th>4</th>\n",
       "      <td>18.0</td>\n",
       "      <td>313.0</td>\n",
       "      <td>11.5</td>\n",
       "      <td>5</td>\n",
       "      <td>4</td>\n",
       "      <td>62</td>\n",
       "      <td>S</td>\n",
       "    </tr>\n",
       "    <tr>\n",
       "      <th>5</th>\n",
       "      <td>NaN</td>\n",
       "      <td>NaN</td>\n",
       "      <td>14.3</td>\n",
       "      <td>5</td>\n",
       "      <td>5</td>\n",
       "      <td>56</td>\n",
       "      <td>S</td>\n",
       "    </tr>\n",
       "  </tbody>\n",
       "</table>\n",
       "</div>"
      ],
      "text/plain": [
       "   Ozone  Solar.R  Wind  Month  Day  Temp Weather\n",
       "1   41.0    190.0   7.4      5    1    67       S\n",
       "2   36.0    118.0   8.0      5    2    72       C\n",
       "3   12.0    149.0  12.6      5    3    74      PS\n",
       "4   18.0    313.0  11.5      5    4    62       S\n",
       "5    NaN      NaN  14.3      5    5    56       S"
      ]
     },
     "execution_count": 47,
     "metadata": {},
     "output_type": "execute_result"
    }
   ],
   "source": [
    "df.head()"
   ]
  },
  {
   "cell_type": "code",
   "execution_count": 48,
   "id": "907d9445",
   "metadata": {
    "ExecuteTime": {
     "end_time": "2023-10-31T04:23:24.353621Z",
     "start_time": "2023-10-31T04:23:24.342768Z"
    }
   },
   "outputs": [],
   "source": [
    "df.rename(columns={'Solar.R':'Solar','Temp':'Temperature'},inplace=True)"
   ]
  },
  {
   "cell_type": "code",
   "execution_count": 49,
   "id": "618f8c5a",
   "metadata": {
    "ExecuteTime": {
     "end_time": "2023-10-31T04:23:28.484210Z",
     "start_time": "2023-10-31T04:23:28.449148Z"
    }
   },
   "outputs": [
    {
     "data": {
      "text/html": [
       "<div>\n",
       "<style scoped>\n",
       "    .dataframe tbody tr th:only-of-type {\n",
       "        vertical-align: middle;\n",
       "    }\n",
       "\n",
       "    .dataframe tbody tr th {\n",
       "        vertical-align: top;\n",
       "    }\n",
       "\n",
       "    .dataframe thead th {\n",
       "        text-align: right;\n",
       "    }\n",
       "</style>\n",
       "<table border=\"1\" class=\"dataframe\">\n",
       "  <thead>\n",
       "    <tr style=\"text-align: right;\">\n",
       "      <th></th>\n",
       "      <th>Ozone</th>\n",
       "      <th>Solar</th>\n",
       "      <th>Wind</th>\n",
       "      <th>Month</th>\n",
       "      <th>Day</th>\n",
       "      <th>Temperature</th>\n",
       "      <th>Weather</th>\n",
       "    </tr>\n",
       "  </thead>\n",
       "  <tbody>\n",
       "    <tr>\n",
       "      <th>1</th>\n",
       "      <td>41.0</td>\n",
       "      <td>190.0</td>\n",
       "      <td>7.4</td>\n",
       "      <td>5</td>\n",
       "      <td>1</td>\n",
       "      <td>67</td>\n",
       "      <td>S</td>\n",
       "    </tr>\n",
       "    <tr>\n",
       "      <th>2</th>\n",
       "      <td>36.0</td>\n",
       "      <td>118.0</td>\n",
       "      <td>8.0</td>\n",
       "      <td>5</td>\n",
       "      <td>2</td>\n",
       "      <td>72</td>\n",
       "      <td>C</td>\n",
       "    </tr>\n",
       "    <tr>\n",
       "      <th>3</th>\n",
       "      <td>12.0</td>\n",
       "      <td>149.0</td>\n",
       "      <td>12.6</td>\n",
       "      <td>5</td>\n",
       "      <td>3</td>\n",
       "      <td>74</td>\n",
       "      <td>PS</td>\n",
       "    </tr>\n",
       "    <tr>\n",
       "      <th>4</th>\n",
       "      <td>18.0</td>\n",
       "      <td>313.0</td>\n",
       "      <td>11.5</td>\n",
       "      <td>5</td>\n",
       "      <td>4</td>\n",
       "      <td>62</td>\n",
       "      <td>S</td>\n",
       "    </tr>\n",
       "    <tr>\n",
       "      <th>5</th>\n",
       "      <td>NaN</td>\n",
       "      <td>NaN</td>\n",
       "      <td>14.3</td>\n",
       "      <td>5</td>\n",
       "      <td>5</td>\n",
       "      <td>56</td>\n",
       "      <td>S</td>\n",
       "    </tr>\n",
       "    <tr>\n",
       "      <th>...</th>\n",
       "      <td>...</td>\n",
       "      <td>...</td>\n",
       "      <td>...</td>\n",
       "      <td>...</td>\n",
       "      <td>...</td>\n",
       "      <td>...</td>\n",
       "      <td>...</td>\n",
       "    </tr>\n",
       "    <tr>\n",
       "      <th>153</th>\n",
       "      <td>20.0</td>\n",
       "      <td>223.0</td>\n",
       "      <td>11.5</td>\n",
       "      <td>9</td>\n",
       "      <td>30</td>\n",
       "      <td>68</td>\n",
       "      <td>S</td>\n",
       "    </tr>\n",
       "    <tr>\n",
       "      <th>154</th>\n",
       "      <td>41.0</td>\n",
       "      <td>190.0</td>\n",
       "      <td>7.4</td>\n",
       "      <td>5</td>\n",
       "      <td>1</td>\n",
       "      <td>67</td>\n",
       "      <td>C</td>\n",
       "    </tr>\n",
       "    <tr>\n",
       "      <th>155</th>\n",
       "      <td>30.0</td>\n",
       "      <td>193.0</td>\n",
       "      <td>6.9</td>\n",
       "      <td>9</td>\n",
       "      <td>26</td>\n",
       "      <td>70</td>\n",
       "      <td>PS</td>\n",
       "    </tr>\n",
       "    <tr>\n",
       "      <th>156</th>\n",
       "      <td>NaN</td>\n",
       "      <td>145.0</td>\n",
       "      <td>13.2</td>\n",
       "      <td>9</td>\n",
       "      <td>27</td>\n",
       "      <td>77</td>\n",
       "      <td>S</td>\n",
       "    </tr>\n",
       "    <tr>\n",
       "      <th>158</th>\n",
       "      <td>18.0</td>\n",
       "      <td>131.0</td>\n",
       "      <td>8.0</td>\n",
       "      <td>9</td>\n",
       "      <td>29</td>\n",
       "      <td>76</td>\n",
       "      <td>C</td>\n",
       "    </tr>\n",
       "  </tbody>\n",
       "</table>\n",
       "<p>157 rows × 7 columns</p>\n",
       "</div>"
      ],
      "text/plain": [
       "     Ozone  Solar  Wind  Month  Day  Temperature Weather\n",
       "1     41.0  190.0   7.4      5    1           67       S\n",
       "2     36.0  118.0   8.0      5    2           72       C\n",
       "3     12.0  149.0  12.6      5    3           74      PS\n",
       "4     18.0  313.0  11.5      5    4           62       S\n",
       "5      NaN    NaN  14.3      5    5           56       S\n",
       "..     ...    ...   ...    ...  ...          ...     ...\n",
       "153   20.0  223.0  11.5      9   30           68       S\n",
       "154   41.0  190.0   7.4      5    1           67       C\n",
       "155   30.0  193.0   6.9      9   26           70      PS\n",
       "156    NaN  145.0  13.2      9   27           77       S\n",
       "158   18.0  131.0   8.0      9   29           76       C\n",
       "\n",
       "[157 rows x 7 columns]"
      ]
     },
     "execution_count": 49,
     "metadata": {},
     "output_type": "execute_result"
    }
   ],
   "source": [
    "df"
   ]
  },
  {
   "cell_type": "markdown",
   "id": "299137da",
   "metadata": {},
   "source": [
    "# Missing value imputation\n",
    "\n",
    "- In dataset, missing data, or missing values, occur when no data value is stored for the variable in an observation.\n",
    "- Missing data are a common occurrence and can have a significant effect on the conclusions that can be drawn from the data.\n",
    "- If we don't impute or handle null values, we will not be able to create a machine learning model as python does not understand missing values.\n",
    "- Handling missing values is a crucial step in EDA.\n",
    "- Missing values can appear for several reasons like:\n",
    "    - Incomplete data entry\n",
    "    - Issues with machines\n",
    "    - Improper handling of data\n",
    "    - And many more.\n",
    "         "
   ]
  },
  {
   "cell_type": "code",
   "execution_count": null,
   "id": "54304830",
   "metadata": {
    "ExecuteTime": {
     "end_time": "2023-10-01T04:33:54.300949Z",
     "start_time": "2023-10-01T04:33:54.286731Z"
    }
   },
   "outputs": [],
   "source": [
    "#Checking null values"
   ]
  },
  {
   "cell_type": "code",
   "execution_count": null,
   "id": "aace4c77",
   "metadata": {
    "ExecuteTime": {
     "end_time": "2023-10-01T04:33:54.347455Z",
     "start_time": "2023-10-01T04:33:54.305601Z"
    }
   },
   "outputs": [],
   "source": [
    "df"
   ]
  },
  {
   "cell_type": "code",
   "execution_count": null,
   "id": "4d799146",
   "metadata": {
    "ExecuteTime": {
     "end_time": "2023-10-01T04:33:54.377934Z",
     "start_time": "2023-10-01T04:33:54.355077Z"
    }
   },
   "outputs": [],
   "source": [
    "df.isna() #is.null()"
   ]
  },
  {
   "cell_type": "code",
   "execution_count": null,
   "id": "c6212fdf",
   "metadata": {
    "ExecuteTime": {
     "end_time": "2023-10-01T04:33:54.425577Z",
     "start_time": "2023-10-01T04:33:54.384880Z"
    }
   },
   "outputs": [],
   "source": [
    "df.isna().sum()"
   ]
  },
  {
   "cell_type": "code",
   "execution_count": null,
   "id": "9505a4fd",
   "metadata": {
    "ExecuteTime": {
     "end_time": "2023-10-01T04:33:54.456883Z",
     "start_time": "2023-10-01T04:33:54.429105Z"
    }
   },
   "outputs": [],
   "source": [
    "df.isnull().sum()"
   ]
  },
  {
   "cell_type": "code",
   "execution_count": null,
   "id": "06436317",
   "metadata": {
    "ExecuteTime": {
     "end_time": "2023-10-01T04:33:54.472516Z",
     "start_time": "2023-10-01T04:33:54.462884Z"
    }
   },
   "outputs": [],
   "source": [
    "#Visualizing missing values"
   ]
  },
  {
   "cell_type": "code",
   "execution_count": null,
   "id": "c6d1b389",
   "metadata": {
    "ExecuteTime": {
     "end_time": "2023-10-01T04:33:55.722947Z",
     "start_time": "2023-10-01T04:33:54.478689Z"
    }
   },
   "outputs": [],
   "source": [
    "sns.heatmap(df.isna())"
   ]
  },
  {
   "cell_type": "code",
   "execution_count": null,
   "id": "5486e963",
   "metadata": {
    "ExecuteTime": {
     "end_time": "2023-10-01T04:33:55.751678Z",
     "start_time": "2023-10-01T04:33:55.728630Z"
    }
   },
   "outputs": [],
   "source": [
    "df.isna().sum()"
   ]
  },
  {
   "cell_type": "code",
   "execution_count": null,
   "id": "2ddfbed1",
   "metadata": {
    "ExecuteTime": {
     "end_time": "2023-10-01T04:33:55.798084Z",
     "start_time": "2023-10-01T04:33:55.769866Z"
    }
   },
   "outputs": [],
   "source": [
    "#Calculate the percentage of missig values in each column.\n",
    "for i in df.isna().sum():\n",
    "    print((i/len(df))*100)"
   ]
  },
  {
   "cell_type": "markdown",
   "id": "fe6b143b",
   "metadata": {
    "ExecuteTime": {
     "end_time": "2023-08-28T05:27:49.400108Z",
     "start_time": "2023-08-28T05:27:49.382221Z"
    }
   },
   "source": [
    "# Rule for missing value imputation:\n",
    "1. If NA values are between 1 to 5%, drop na (rows)\n",
    "2. If NA value are 5 to 40%, fillna(replace)\n",
    "3. If NA values are greater than 50% in a column, drop that entire column."
   ]
  },
  {
   "cell_type": "code",
   "execution_count": null,
   "id": "80b0c33c",
   "metadata": {
    "ExecuteTime": {
     "end_time": "2023-10-01T04:33:55.861021Z",
     "start_time": "2023-10-01T04:33:55.810245Z"
    }
   },
   "outputs": [],
   "source": [
    "df.head()"
   ]
  },
  {
   "cell_type": "code",
   "execution_count": null,
   "id": "60c994c8",
   "metadata": {
    "ExecuteTime": {
     "end_time": "2023-10-01T04:33:57.873691Z",
     "start_time": "2023-10-01T04:33:55.865393Z"
    }
   },
   "outputs": [],
   "source": [
    "df.hist()\n",
    "plt.tight_layout()"
   ]
  },
  {
   "cell_type": "code",
   "execution_count": null,
   "id": "136a3d0b",
   "metadata": {
    "ExecuteTime": {
     "end_time": "2023-10-01T04:33:58.697889Z",
     "start_time": "2023-10-01T04:33:57.893059Z"
    }
   },
   "outputs": [],
   "source": [
    "df.boxplot()"
   ]
  },
  {
   "cell_type": "code",
   "execution_count": null,
   "id": "4c2a2799",
   "metadata": {
    "ExecuteTime": {
     "end_time": "2023-10-01T04:33:59.164435Z",
     "start_time": "2023-10-01T04:33:58.704895Z"
    },
    "scrolled": false
   },
   "outputs": [],
   "source": [
    "sns.boxplot(df['Solar'])"
   ]
  },
  {
   "cell_type": "code",
   "execution_count": null,
   "id": "94f716f0",
   "metadata": {
    "ExecuteTime": {
     "end_time": "2023-10-01T04:33:59.210312Z",
     "start_time": "2023-10-01T04:33:59.172986Z"
    }
   },
   "outputs": [],
   "source": [
    "ozone_median = df['Ozone'].median()\n",
    "ozone_median"
   ]
  },
  {
   "cell_type": "code",
   "execution_count": null,
   "id": "5268196e",
   "metadata": {
    "ExecuteTime": {
     "end_time": "2023-10-01T04:33:59.226025Z",
     "start_time": "2023-10-01T04:33:59.214383Z"
    }
   },
   "outputs": [],
   "source": [
    "df['Ozone'].fillna(ozone_median, inplace=True)"
   ]
  },
  {
   "cell_type": "code",
   "execution_count": null,
   "id": "c1a27a25",
   "metadata": {
    "ExecuteTime": {
     "end_time": "2023-10-01T04:33:59.272591Z",
     "start_time": "2023-10-01T04:33:59.232910Z"
    }
   },
   "outputs": [],
   "source": [
    "df.isna().sum()"
   ]
  },
  {
   "cell_type": "code",
   "execution_count": null,
   "id": "752fb12d",
   "metadata": {
    "ExecuteTime": {
     "end_time": "2023-10-01T04:33:59.302512Z",
     "start_time": "2023-10-01T04:33:59.277734Z"
    }
   },
   "outputs": [],
   "source": [
    "df['Solar'].mean()"
   ]
  },
  {
   "cell_type": "code",
   "execution_count": null,
   "id": "3b806d4d",
   "metadata": {
    "ExecuteTime": {
     "end_time": "2023-10-01T04:33:59.318823Z",
     "start_time": "2023-10-01T04:33:59.306970Z"
    }
   },
   "outputs": [],
   "source": [
    "df['Solar'].fillna(df['Solar'].mean(), inplace=True)"
   ]
  },
  {
   "cell_type": "code",
   "execution_count": null,
   "id": "9b47446e",
   "metadata": {
    "ExecuteTime": {
     "end_time": "2023-10-01T04:33:59.365527Z",
     "start_time": "2023-10-01T04:33:59.329327Z"
    }
   },
   "outputs": [],
   "source": [
    "df['Weather'].value_counts()"
   ]
  },
  {
   "cell_type": "code",
   "execution_count": null,
   "id": "9af07cf4",
   "metadata": {
    "ExecuteTime": {
     "end_time": "2023-10-01T04:33:59.396633Z",
     "start_time": "2023-10-01T04:33:59.372069Z"
    }
   },
   "outputs": [],
   "source": [
    "df['Weather'].mode()"
   ]
  },
  {
   "cell_type": "code",
   "execution_count": null,
   "id": "a1bb089e",
   "metadata": {
    "ExecuteTime": {
     "end_time": "2023-10-01T04:33:59.427420Z",
     "start_time": "2023-10-01T04:33:59.403248Z"
    }
   },
   "outputs": [],
   "source": [
    "df['Weather'].mode()[0]"
   ]
  },
  {
   "cell_type": "code",
   "execution_count": null,
   "id": "50ca90aa",
   "metadata": {
    "ExecuteTime": {
     "end_time": "2023-10-01T04:33:59.466522Z",
     "start_time": "2023-10-01T04:33:59.433471Z"
    }
   },
   "outputs": [],
   "source": [
    "df['Weather'].fillna(df['Weather'].mode()[0], inplace=True)"
   ]
  },
  {
   "cell_type": "code",
   "execution_count": null,
   "id": "8c72861c",
   "metadata": {
    "ExecuteTime": {
     "end_time": "2023-10-01T04:33:59.506789Z",
     "start_time": "2023-10-01T04:33:59.474319Z"
    }
   },
   "outputs": [],
   "source": [
    "df.isna().sum()"
   ]
  },
  {
   "cell_type": "markdown",
   "id": "30c12e7c",
   "metadata": {},
   "source": [
    "# Outlier detection"
   ]
  },
  {
   "cell_type": "markdown",
   "id": "e1b2cdce",
   "metadata": {},
   "source": [
    "- There are multiple approaches to detect outliers in the dataset.\n",
    "    - Histogram\n",
    "    - Boxplot\n",
    "    - Descriptive stats for df"
   ]
  },
  {
   "cell_type": "code",
   "execution_count": null,
   "id": "7cd29d48",
   "metadata": {
    "ExecuteTime": {
     "end_time": "2023-10-01T04:33:59.724197Z",
     "start_time": "2023-10-01T04:33:59.516447Z"
    }
   },
   "outputs": [],
   "source": [
    "df.describe()"
   ]
  },
  {
   "cell_type": "code",
   "execution_count": null,
   "id": "635bf215",
   "metadata": {
    "ExecuteTime": {
     "end_time": "2023-10-01T04:34:01.984173Z",
     "start_time": "2023-10-01T04:33:59.727196Z"
    }
   },
   "outputs": [],
   "source": [
    "df.hist()\n",
    "plt.tight_layout()"
   ]
  },
  {
   "cell_type": "code",
   "execution_count": null,
   "id": "2aa87da1",
   "metadata": {
    "ExecuteTime": {
     "end_time": "2023-10-01T04:34:02.573749Z",
     "start_time": "2023-10-01T04:34:01.989013Z"
    }
   },
   "outputs": [],
   "source": [
    "df.boxplot()"
   ]
  },
  {
   "cell_type": "code",
   "execution_count": null,
   "id": "5245f5c2",
   "metadata": {
    "ExecuteTime": {
     "end_time": "2023-10-01T04:34:03.321855Z",
     "start_time": "2023-10-01T04:34:02.578789Z"
    }
   },
   "outputs": [],
   "source": [
    "sns.boxplot(df['Ozone'])"
   ]
  },
  {
   "cell_type": "code",
   "execution_count": null,
   "id": "5964472e",
   "metadata": {
    "ExecuteTime": {
     "end_time": "2023-10-01T04:34:03.337476Z",
     "start_time": "2023-10-01T04:34:03.331399Z"
    }
   },
   "outputs": [],
   "source": [
    "#Outlier detection function"
   ]
  },
  {
   "cell_type": "code",
   "execution_count": null,
   "id": "821c5e52",
   "metadata": {
    "ExecuteTime": {
     "end_time": "2023-10-01T04:34:03.399512Z",
     "start_time": "2023-10-01T04:34:03.346034Z"
    }
   },
   "outputs": [],
   "source": [
    "def outlier_detection(data,colname):\n",
    "    q1 = data[colname].quantile(0.25)\n",
    "    q3 = data[colname].quantile(0.75)\n",
    "    iqr = q3-q1\n",
    "    \n",
    "    upper = q3+(1.5*iqr)\n",
    "    lower = q1-(1.5*iqr)\n",
    "    \n",
    "    return lower,upper"
   ]
  },
  {
   "cell_type": "code",
   "execution_count": null,
   "id": "7a733a0b",
   "metadata": {
    "ExecuteTime": {
     "end_time": "2023-10-01T04:34:03.431131Z",
     "start_time": "2023-10-01T04:34:03.409051Z"
    }
   },
   "outputs": [],
   "source": [
    "outlier_detection(df,'Ozone')"
   ]
  },
  {
   "cell_type": "code",
   "execution_count": null,
   "id": "884e60bb",
   "metadata": {
    "ExecuteTime": {
     "end_time": "2023-10-01T04:34:03.508628Z",
     "start_time": "2023-10-01T04:34:03.433137Z"
    }
   },
   "outputs": [],
   "source": [
    "df[df['Ozone']>81.0]"
   ]
  },
  {
   "cell_type": "code",
   "execution_count": null,
   "id": "156fb913",
   "metadata": {
    "ExecuteTime": {
     "end_time": "2023-10-01T04:34:03.539122Z",
     "start_time": "2023-10-01T04:34:03.516672Z"
    }
   },
   "outputs": [],
   "source": [
    "df.loc[df['Ozone'] > 81.0,'Ozone']"
   ]
  },
  {
   "cell_type": "code",
   "execution_count": null,
   "id": "f6048a4a",
   "metadata": {
    "ExecuteTime": {
     "end_time": "2023-10-01T04:34:03.570194Z",
     "start_time": "2023-10-01T04:34:03.545802Z"
    }
   },
   "outputs": [],
   "source": [
    "#Capping Outliers"
   ]
  },
  {
   "cell_type": "code",
   "execution_count": null,
   "id": "9aa7b73f",
   "metadata": {
    "ExecuteTime": {
     "end_time": "2023-10-01T04:34:03.602528Z",
     "start_time": "2023-10-01T04:34:03.576207Z"
    }
   },
   "outputs": [],
   "source": [
    "df.loc[df['Ozone']>81.0,'Ozone'] = 81.0"
   ]
  },
  {
   "cell_type": "code",
   "execution_count": null,
   "id": "6ef383a8",
   "metadata": {
    "ExecuteTime": {
     "end_time": "2023-10-01T04:34:04.211032Z",
     "start_time": "2023-10-01T04:34:03.616449Z"
    }
   },
   "outputs": [],
   "source": [
    "sns.boxplot(df['Ozone'])"
   ]
  },
  {
   "cell_type": "code",
   "execution_count": null,
   "id": "62dc1781",
   "metadata": {
    "ExecuteTime": {
     "end_time": "2023-10-01T04:34:04.242643Z",
     "start_time": "2023-10-01T04:34:04.218735Z"
    }
   },
   "outputs": [],
   "source": [
    "outlier_detection(df, 'Wind')"
   ]
  },
  {
   "cell_type": "code",
   "execution_count": null,
   "id": "71a618c0",
   "metadata": {
    "ExecuteTime": {
     "end_time": "2023-10-01T04:34:04.923195Z",
     "start_time": "2023-10-01T04:34:04.248781Z"
    }
   },
   "outputs": [],
   "source": [
    "sns.boxplot(df['Wind'])"
   ]
  },
  {
   "cell_type": "code",
   "execution_count": null,
   "id": "e67158e0",
   "metadata": {
    "ExecuteTime": {
     "end_time": "2023-10-01T04:34:04.954741Z",
     "start_time": "2023-10-01T04:34:04.926047Z"
    }
   },
   "outputs": [],
   "source": [
    "df[df['Wind'] > 17.65]"
   ]
  },
  {
   "cell_type": "code",
   "execution_count": null,
   "id": "822874e9",
   "metadata": {
    "ExecuteTime": {
     "end_time": "2023-10-01T04:34:04.985424Z",
     "start_time": "2023-10-01T04:34:04.972285Z"
    }
   },
   "outputs": [],
   "source": [
    "df.loc[df['Wind']>17.65,'Wind'] = 17.65"
   ]
  },
  {
   "cell_type": "code",
   "execution_count": null,
   "id": "ea953966",
   "metadata": {
    "ExecuteTime": {
     "end_time": "2023-10-01T04:35:15.133901Z",
     "start_time": "2023-10-01T04:35:14.189820Z"
    }
   },
   "outputs": [],
   "source": [
    "df.boxplot()"
   ]
  },
  {
   "cell_type": "markdown",
   "id": "62890fb5",
   "metadata": {},
   "source": [
    "# Scatter Plot and Correlation"
   ]
  },
  {
   "cell_type": "code",
   "execution_count": null,
   "id": "6364af89",
   "metadata": {
    "ExecuteTime": {
     "end_time": "2023-10-01T04:52:07.575261Z",
     "start_time": "2023-10-01T04:51:51.793261Z"
    }
   },
   "outputs": [],
   "source": [
    "sns.pairplot(df)"
   ]
  },
  {
   "cell_type": "code",
   "execution_count": null,
   "id": "30bdb177",
   "metadata": {
    "ExecuteTime": {
     "end_time": "2023-10-01T04:34:06.265911Z",
     "start_time": "2023-10-01T04:34:06.265911Z"
    }
   },
   "outputs": [],
   "source": [
    "#Correlation coefficient"
   ]
  },
  {
   "cell_type": "code",
   "execution_count": null,
   "id": "6dac8320",
   "metadata": {
    "ExecuteTime": {
     "end_time": "2023-10-01T04:55:11.688033Z",
     "start_time": "2023-10-01T04:55:11.632990Z"
    }
   },
   "outputs": [],
   "source": [
    "df.corr()"
   ]
  },
  {
   "cell_type": "code",
   "execution_count": null,
   "id": "bc51a0e3",
   "metadata": {
    "ExecuteTime": {
     "end_time": "2023-10-01T05:00:08.740002Z",
     "start_time": "2023-10-01T05:00:07.581305Z"
    }
   },
   "outputs": [],
   "source": [
    "sns.heatmap(df.corr(),annot=True, cmap='viridis')"
   ]
  },
  {
   "cell_type": "markdown",
   "id": "4ebb4f16",
   "metadata": {},
   "source": [
    "# Transformations\n",
    "\n",
    "- Machines do not understand words and sentences.\n",
    "- Machines only understand numbers.\n",
    "- Before model building, we have convert all the categorical columns into numerical."
   ]
  },
  {
   "cell_type": "code",
   "execution_count": null,
   "id": "443a1215",
   "metadata": {
    "ExecuteTime": {
     "end_time": "2023-10-01T05:03:12.348062Z",
     "start_time": "2023-10-01T05:03:12.307818Z"
    }
   },
   "outputs": [],
   "source": [
    "df.head()"
   ]
  },
  {
   "cell_type": "code",
   "execution_count": null,
   "id": "06a41c9b",
   "metadata": {
    "ExecuteTime": {
     "end_time": "2023-10-01T04:34:06.318656Z",
     "start_time": "2023-10-01T04:34:06.318656Z"
    }
   },
   "outputs": [],
   "source": [
    "#Encoding using pandas dummy function."
   ]
  },
  {
   "cell_type": "code",
   "execution_count": null,
   "id": "adfaa938",
   "metadata": {
    "ExecuteTime": {
     "end_time": "2023-10-01T05:06:10.252775Z",
     "start_time": "2023-10-01T05:06:10.230986Z"
    }
   },
   "outputs": [],
   "source": [
    "df = pd.get_dummies(data=df,columns= ['Weather'])"
   ]
  },
  {
   "cell_type": "code",
   "execution_count": null,
   "id": "67841efa",
   "metadata": {
    "ExecuteTime": {
     "end_time": "2023-10-01T05:06:15.090393Z",
     "start_time": "2023-10-01T05:06:15.036868Z"
    }
   },
   "outputs": [],
   "source": [
    "df"
   ]
  },
  {
   "cell_type": "markdown",
   "id": "f7bab932",
   "metadata": {},
   "source": [
    "# **Scaling the data**\n",
    "\n",
    "- Normalization\n",
    "    - Scales value within the range of 0 to 1.\n",
    "- Standardization\n",
    "    - Uses Z score for scaling.\n",
    "    - Scale values in such a way that the mean = 0 and standard deviation is 1."
   ]
  },
  {
   "cell_type": "code",
   "execution_count": null,
   "id": "84c707c6",
   "metadata": {
    "ExecuteTime": {
     "end_time": "2023-10-01T05:13:01.814625Z",
     "start_time": "2023-10-01T05:13:01.798351Z"
    }
   },
   "outputs": [],
   "source": [
    "from sklearn.preprocessing import StandardScaler,MinMaxScaler"
   ]
  },
  {
   "cell_type": "code",
   "execution_count": null,
   "id": "a31514bc",
   "metadata": {
    "ExecuteTime": {
     "end_time": "2023-10-01T05:15:19.834898Z",
     "start_time": "2023-10-01T05:15:19.816137Z"
    }
   },
   "outputs": [],
   "source": [
    "#Standardization\n",
    "sc = StandardScaler()"
   ]
  },
  {
   "cell_type": "code",
   "execution_count": null,
   "id": "8d21a7d0",
   "metadata": {
    "ExecuteTime": {
     "end_time": "2023-10-01T05:17:11.094047Z",
     "start_time": "2023-10-01T05:17:11.067307Z"
    }
   },
   "outputs": [],
   "source": [
    "df.head(2)"
   ]
  },
  {
   "cell_type": "code",
   "execution_count": null,
   "id": "c60d52de",
   "metadata": {
    "ExecuteTime": {
     "end_time": "2023-10-01T05:17:05.562602Z",
     "start_time": "2023-10-01T05:17:05.466517Z"
    }
   },
   "outputs": [],
   "source": [
    "df.describe()"
   ]
  },
  {
   "cell_type": "code",
   "execution_count": null,
   "id": "d5c51485",
   "metadata": {
    "ExecuteTime": {
     "end_time": "2023-10-01T05:21:51.499905Z",
     "start_time": "2023-10-01T05:21:51.464637Z"
    }
   },
   "outputs": [],
   "source": [
    "sc.fit_transform(df)"
   ]
  },
  {
   "cell_type": "code",
   "execution_count": null,
   "id": "8c68bf9d",
   "metadata": {
    "ExecuteTime": {
     "end_time": "2023-10-01T05:22:59.732878Z",
     "start_time": "2023-10-01T05:22:59.712109Z"
    }
   },
   "outputs": [],
   "source": [
    "df.columns"
   ]
  },
  {
   "cell_type": "code",
   "execution_count": null,
   "id": "391a8cc8",
   "metadata": {
    "ExecuteTime": {
     "end_time": "2023-10-01T05:23:13.469788Z",
     "start_time": "2023-10-01T05:23:13.413344Z"
    }
   },
   "outputs": [],
   "source": [
    "scaled_data = pd.DataFrame(sc.fit_transform(df), columns=df.columns)\n",
    "scaled_data"
   ]
  },
  {
   "cell_type": "code",
   "execution_count": null,
   "id": "957473ca",
   "metadata": {
    "ExecuteTime": {
     "end_time": "2023-10-01T05:26:05.938538Z",
     "start_time": "2023-10-01T05:26:05.861534Z"
    }
   },
   "outputs": [],
   "source": [
    "scaled_data.describe()"
   ]
  },
  {
   "cell_type": "code",
   "execution_count": null,
   "id": "52c9e3c6",
   "metadata": {
    "ExecuteTime": {
     "end_time": "2023-10-01T05:47:54.911235Z",
     "start_time": "2023-10-01T05:47:54.885147Z"
    }
   },
   "outputs": [],
   "source": [
    "scaled_data.to_csv('Scaled_data.csv')"
   ]
  },
  {
   "cell_type": "code",
   "execution_count": null,
   "id": "aaeef288",
   "metadata": {
    "ExecuteTime": {
     "end_time": "2023-10-01T04:34:06.355436Z",
     "start_time": "2023-10-01T04:34:06.355436Z"
    }
   },
   "outputs": [],
   "source": [
    "#MinMaxScalar"
   ]
  },
  {
   "cell_type": "code",
   "execution_count": null,
   "id": "0c31a293",
   "metadata": {
    "ExecuteTime": {
     "end_time": "2023-10-01T05:24:11.535175Z",
     "start_time": "2023-10-01T05:24:11.517349Z"
    }
   },
   "outputs": [],
   "source": [
    "mn = MinMaxScaler()"
   ]
  },
  {
   "cell_type": "code",
   "execution_count": null,
   "id": "821ddf32",
   "metadata": {
    "ExecuteTime": {
     "end_time": "2023-10-01T05:25:30.832848Z",
     "start_time": "2023-10-01T05:25:30.769617Z"
    }
   },
   "outputs": [],
   "source": [
    "minmax_scaled = pd.DataFrame(mn.fit_transform(df), columns=df.columns)\n",
    "minmax_scaled"
   ]
  },
  {
   "cell_type": "code",
   "execution_count": null,
   "id": "52811a50",
   "metadata": {
    "ExecuteTime": {
     "end_time": "2023-10-01T05:26:59.260127Z",
     "start_time": "2023-10-01T05:26:59.205242Z"
    }
   },
   "outputs": [],
   "source": [
    "minmax_scaled.describe()"
   ]
  },
  {
   "cell_type": "markdown",
   "id": "57bea0ae",
   "metadata": {},
   "source": [
    "# Speed up the EDA process"
   ]
  },
  {
   "cell_type": "code",
   "execution_count": null,
   "id": "7a016738",
   "metadata": {
    "ExecuteTime": {
     "end_time": "2023-10-01T04:34:06.367178Z",
     "start_time": "2023-10-01T04:34:06.367178Z"
    }
   },
   "outputs": [],
   "source": [
    "# !pip install ydata-profiling\n",
    "# !pip install sweetviz"
   ]
  },
  {
   "cell_type": "code",
   "execution_count": null,
   "id": "b239d215",
   "metadata": {
    "ExecuteTime": {
     "end_time": "2023-10-01T05:32:48.108186Z",
     "start_time": "2023-10-01T05:32:44.979058Z"
    }
   },
   "outputs": [],
   "source": [
    "#from ydata_profiling import ProfileReport\n",
    "import pandas_profiling as pp\n",
    "import sweetviz as sv"
   ]
  },
  {
   "cell_type": "code",
   "execution_count": null,
   "id": "731419c9",
   "metadata": {
    "ExecuteTime": {
     "end_time": "2023-10-01T05:33:35.907643Z",
     "start_time": "2023-10-01T05:33:35.877178Z"
    }
   },
   "outputs": [],
   "source": [
    "df = pd.read_csv('data_clean.csv', index_col=0)\n",
    "df.head()"
   ]
  },
  {
   "cell_type": "markdown",
   "id": "d06d5de3",
   "metadata": {},
   "source": [
    "- For a dataset with less elements than a given number (say 5), pandas-profiling assumes that your variable is categorical instead of numerical."
   ]
  },
  {
   "cell_type": "code",
   "execution_count": null,
   "id": "2e7601fa",
   "metadata": {
    "ExecuteTime": {
     "end_time": "2023-10-01T05:37:20.057140Z",
     "start_time": "2023-10-01T05:36:54.417193Z"
    }
   },
   "outputs": [],
   "source": [
    "EDA_report = pp.ProfileReport(df,vars=dict(num={\"low_categorical_threshold\": 0}))\n",
    "EDA_report"
   ]
  },
  {
   "cell_type": "code",
   "execution_count": null,
   "id": "2215a935",
   "metadata": {
    "ExecuteTime": {
     "end_time": "2023-10-01T05:43:42.322403Z",
     "start_time": "2023-10-01T05:43:37.533103Z"
    }
   },
   "outputs": [],
   "source": [
    "report = sv.analyze(df)"
   ]
  },
  {
   "cell_type": "code",
   "execution_count": null,
   "id": "eefa500f",
   "metadata": {
    "ExecuteTime": {
     "end_time": "2023-10-01T05:44:36.094556Z",
     "start_time": "2023-10-01T05:44:35.073187Z"
    }
   },
   "outputs": [],
   "source": [
    "report.show_html('sweetviz.html')"
   ]
  },
  {
   "cell_type": "code",
   "execution_count": null,
   "id": "37694e06",
   "metadata": {},
   "outputs": [],
   "source": []
  }
 ],
 "metadata": {
  "kernelspec": {
   "display_name": "Python 3 (ipykernel)",
   "language": "python",
   "name": "python3"
  },
  "language_info": {
   "codemirror_mode": {
    "name": "ipython",
    "version": 3
   },
   "file_extension": ".py",
   "mimetype": "text/x-python",
   "name": "python",
   "nbconvert_exporter": "python",
   "pygments_lexer": "ipython3",
   "version": "3.9.13"
  }
 },
 "nbformat": 4,
 "nbformat_minor": 5
}
